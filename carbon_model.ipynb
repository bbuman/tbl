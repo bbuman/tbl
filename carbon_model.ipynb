{
 "metadata": {
  "language_info": {
   "codemirror_mode": {
    "name": "ipython",
    "version": 3
   },
   "file_extension": ".py",
   "mimetype": "text/x-python",
   "name": "python",
   "nbconvert_exporter": "python",
   "pygments_lexer": "ipython3",
   "version": "3.7.9-final"
  },
  "orig_nbformat": 2,
  "kernelspec": {
   "name": "python3",
   "display_name": "Python 3",
   "language": "python"
  }
 },
 "nbformat": 4,
 "nbformat_minor": 2,
 "cells": [
  {
   "cell_type": "code",
   "execution_count": 1,
   "metadata": {},
   "outputs": [],
   "source": [
    "# compartments\n",
    "import box_lake \n",
    "import box_soil\n",
    "import box_vegetation\n",
    "import box_herbivores\n",
    "import box_terrestrial\n",
    "# additional\n",
    "import numpy as np\n",
    "import matplotlib.pyplot as plt\n",
    "import pandas as pd"
   ]
  },
  {
   "source": [
    "# -1- Initialize the pools!"
   ],
   "cell_type": "markdown",
   "metadata": {}
  },
  {
   "cell_type": "code",
   "execution_count": 13,
   "metadata": {},
   "outputs": [],
   "source": [
    "# <1> Geometrical:\n",
    "# <1.1> Convert from km2 to m2\n",
    "km2_to_m2 = 1000000\n",
    "# <1.2> Total catchment area:\n",
    "area_catchment = 1.56 * km2_to_m2 \n",
    "# <1.3> Terrestrial area:\n",
    "area_terr = 1.18 * km2_to_m2 \n",
    "# <1.4> Different terrestrial features [%]:\n",
    "area_bedrock = 7\n",
    "area_non_veg = 15\n",
    "area_betula = 14\n",
    "area_grass = 20\n",
    "area_meadow = 38\n",
    "area_wetland = 7\n",
    "# <1.5> Aquatic area:\n",
    "area_lake = 0.38 * km2_to_m2\n",
    "# <1.6> Different aquatic features:\n",
    "area_lake_above16 = 0.22 * km2_to_m2\n",
    "area_lake_below16 = 0.16 * km2_to_m2\n",
    "# <1.7> Aquatic volume [m3]:\n",
    "volume_lake = 4250000 \n",
    "# <1.8> Different volume features:\n",
    "volume_above14 = 3178000\n",
    "volume_below14 = 1072000\n",
    "# <1.9> Aquatic depth [m]:\n",
    "depth_max_lake = 29.9\n",
    "depth_mean_lake = 11.3\n",
    "\n",
    "# <2> Biophysical parameterization:\n",
    "# <2.1> Root to shoot ratio:\n",
    "root_shoot_betula = 2\n",
    "root_shoot_grass = 6\n",
    "root_shoot_meadow = 6\n",
    "root_shoot_wetland = 6\n",
    "# <2.4> Green AGB [kg C / m2]:\n",
    "green_betula = 0.072\n",
    "green_grass = 0.028\n",
    "green_meadow = 0.044\n",
    "green_wetland = 0.018\n",
    "# <2.5> Bryophyte AGB [kg C / m2]:\n",
    "bryo_betula = 0.0715 # old = 0.157\n",
    "bryo_grass = 0\n",
    "bryo_meadow = 0.019\n",
    "bryo_wetland = 0.091\n",
    "# <2.6> Litter AGB [kg C / m2]:\n",
    "agb_litter_betula = 0.931\n",
    "agb_litter_grass = 0.285\n",
    "agb_litter_meadow = 0.495\n",
    "agb_litter_wetland = 0.576\n",
    "# <2.7> Wood AGB [kg C / m2]:\n",
    "wood_betula = 0.786\n",
    "wood_grass = 0\n",
    "wood_meadow = 0\n",
    "wood_wetland = 0.039\n",
    "# <2.8> Roots [kg C / m2]:\n",
    "roots_betula = 2.230\n",
    "roots_grass = 0.950\n",
    "roots_meadow = 1.520\n",
    "roots_wetland = 1.090\n",
    "# <2.9> Benthic organisms [kg C / m2]:\n",
    "# <2.9.1> Macrophytes:\n",
    "benthic_macrophytes = 0.0878\n",
    "# <2.9.2> Macro Fauna:\n",
    "benthic_macrofauna = 0.000324\n",
    "# <2.9.3> Bacteria:\n",
    "benthic_bacteria = 0.000883\n",
    "# <2.10> Aquatic organisms [kg C / m3]:\n",
    "# <2.10.1> Phytoplankton:\n",
    "phytoplankton = 0.0000289\n",
    "# <2.10.2> Zooplankton:\n",
    "zooplankton = 0.0000412\n",
    "# <2.10.3> Bacterioplankton:\n",
    "bacterioplankton = 0.0000143\n",
    "# <2.11> Water dissolved carbon [kg C / m3]:\n",
    "# <2.11.1> Inorganic carbon:\n",
    "lake_water_IC = 0.0169\n",
    "# <2.11.2> Organic carbon:\n",
    "lake_water_OC = 0.00861\n",
    "# <2.12> Lake sediment carbon [kg C / m2]:\n",
    "lake_sediment = 10\n",
    "# <2.13> Herbivore mass [kg C / m2]\n",
    "herbivore_mass = 0.000872\n",
    "\n",
    "# <3> Geochemical parameterization:\n",
    "# <3.1> SOC active layer:\n",
    "soc_active_bedrock = 0\n",
    "soc_active_non_veg = 7.05\n",
    "soc_active_betula = 22.1\n",
    "soc_active_grass = 10.3\n",
    "soc_active_meadow = 13.3\n",
    "soc_active_wetland = 18.5\n",
    "# <3.2> SOC permafrost layer:\n",
    "soc_permafrost_bedrock = 0\n",
    "soc_permafrost_non_veg = 2.85\n",
    "soc_permafrost_betula = 11.7\n",
    "soc_permafrost_grass = 2.8\n",
    "soc_permafrost_meadow = 10.1\n",
    "soc_permafrost_wetland = 17.7\n"
   ]
  },
  {
   "cell_type": "code",
   "execution_count": 14,
   "metadata": {},
   "outputs": [],
   "source": [
    "# <1> Create the pools:\n",
    "# <1.1> Soil:\n",
    "soil = box_soil.Soil(area_terr, area_bedrock, area_non_veg, area_betula, area_grass, area_meadow, area_wetland,\n",
    "0, 0, roots_betula, roots_grass, roots_meadow, roots_wetland, soc_active_bedrock, soc_active_non_veg, soc_active_betula,\n",
    "soc_active_grass, soc_active_meadow, soc_active_wetland, soc_permafrost_bedrock, soc_permafrost_non_veg, \n",
    "soc_permafrost_betula, soc_permafrost_grass, soc_permafrost_meadow, soc_permafrost_wetland)\n",
    "# <1.2> Vegetation:\n",
    "vegetation = box_vegetation.Vegetation(area_terr, area_bedrock, area_non_veg, \n",
    "area_betula, area_grass, area_meadow, area_wetland, root_shoot_betula, root_shoot_grass, \n",
    "root_shoot_meadow, root_shoot_wetland, green_betula, green_grass, green_meadow, green_wetland, \n",
    "bryo_betula, bryo_grass, bryo_meadow, bryo_wetland, roots_betula, roots_grass, roots_meadow, \n",
    "roots_wetland, wood_betula, wood_grass, wood_meadow, wood_wetland, agb_litter_betula, agb_litter_grass,\n",
    "agb_litter_meadow, agb_litter_wetland)\n",
    "# <1.3> Lake:\n",
    "lake = box_lake.Lake(area_lake, volume_lake, benthic_macrophytes, benthic_macrofauna, benthic_bacteria, \n",
    "phytoplankton, zooplankton, bacterioplankton, lake_water_IC, lake_water_OC, lake_sediment)\n",
    "# <1.4> Herbivores:\n",
    "herbivore = box_herbivores.Herbivores(area_terr,  herbivore_mass)"
   ]
  },
  {
   "cell_type": "code",
   "execution_count": 4,
   "metadata": {},
   "outputs": [
    {
     "output_type": "stream",
     "name": "stdout",
     "text": [
      "Soil active layer carbon = 1.482139 [kg C / m2].\nSoil permafrost layer carbon= 9.08895 [kg C / m2].\nVegetation carbon= 8.326080000000001 [kg C / m2].\nHerbivore carbon= 1.02896 [kg C / m2].\nLake carbon= 3.94259886 [kg C / m2].\n"
     ]
    }
   ],
   "source": [
    "print('Soil active layer carbon =', (soil.soc_active_total / 10000000), '[kg C / m2].')\n",
    "print('Soil permafrost layer carbon=', (soil.soc_permafrost_total / 1000000), '[kg C / m2].')\n",
    "print('Vegetation carbon=', (vegetation.total_biomass / 100000), '[kg C / m2].')\n",
    "print('Herbivore carbon=', (herbivore.total_biomass / 1000), '[kg C / m2].')\n",
    "print('Lake carbon=', (lake.total_carbon / 1000000), '[kg C / m2].')"
   ]
  },
  {
   "cell_type": "code",
   "execution_count": 5,
   "metadata": {},
   "outputs": [
    {
     "output_type": "stream",
     "name": "stdout",
     "text": [
      "biomass_benthic_macrophyte = 3.3364\nbiomass_benthic_macrofauna 1.2312\nbiomass_benthic_bacteria 3.3554000000000004\nbiomass_phytoplankton 1.22825\nbiomass_zooplankton 1.751\nbiomass_bacterioplankton 6.0775\ntotal_IC 7.1825\ntotal_OC 3.65925\ncarbon_sediment 3.8\n"
     ]
    }
   ],
   "source": [
    "print('biomass_benthic_macrophyte =', (lake.biomass_benthic_macrophyte / 10000))\n",
    "print('biomass_benthic_macrofauna', (lake.biomass_benthic_macrofauna / 100))\n",
    "print('biomass_benthic_bacteria', (lake.biomass_benthic_bacteria / 100))\n",
    "print('biomass_phytoplankton', (lake.biomass_phytoplankton / 100))\n",
    "print('biomass_zooplankton', (lake.biomass_zooplankton / 100))\n",
    "print('biomass_bacterioplankton', (lake.biomass_bacterioplankton / 10))\n",
    "print('total_IC', (lake.total_IC / 10000))\n",
    "print('total_OC', (lake.total_OC / 10000))\n",
    "print('carbon_sediment', (lake.carbon_sediment / 1000000))"
   ]
  },
  {
   "cell_type": "code",
   "execution_count": 15,
   "metadata": {},
   "outputs": [],
   "source": [
    "# <2> Define the fluxes:\n",
    "# <2.1> Vegetation\n",
    "# <2.1.1> Productivity vascular tissue:\n",
    "prod_vasc_betula = 1\n",
    "prod_vasc_grass = 3\n",
    "prod_vasc_meadow = 3\n",
    "prod_vasc_wetland = 2\n",
    "# <2.1.2> Productivity bryophytes:\n",
    "prod_bryo_betula = 0.3\n",
    "prod_bryo_grass = 0.3\n",
    "prod_bryo_meadow = 0.3\n",
    "prod_bryo_wetland = 0.3\n",
    "# <2.1.3> Flux of NPP to SOC layer [kg C / m2 a]:\n",
    "veg_to_soil = 0.138 \n",
    "# <2.1.4> Set vegetation fluxes:\n",
    "vegetation.set_fluxes(prod_vasc_betula, prod_vasc_grass, prod_vasc_meadow,\n",
    "prod_vasc_wetland, prod_bryo_betula, prod_bryo_grass, prod_bryo_meadow, prod_bryo_wetland, veg_to_soil)\n",
    "\n",
    "# <2.2> Soil\n",
    "# <2.2.1> Input:\n",
    "soil_accumulation = veg_to_soil\n",
    "# <2.2.2> Respiration:\n",
    "soil_respiration = 0.13\n",
    "# <2.2.3> Export to Permafrost:\n",
    "active_layer_2_permafrost = 0.00294\n",
    "# <2.2.4> Export to Lake:\n",
    "active_layer_OC_2_lake = 0.00136 + 0.00126 # non-spring + spring\n",
    "active_layer_IC_2_lake = 0.00827\n",
    "# <2.2.5> Set soil fluxes:\n",
    "soil.set_fluxes(soil_respiration, soil_accumulation, active_layer_2_permafrost, active_layer_IC_2_lake, active_layer_OC_2_lake) \n",
    "\n",
    "# <2.3> Herbivores:\n",
    "# <2.3.1> Input / output:\n",
    "grazing = 0.00884\n",
    "# <2.3.2> Set herbivore fluxes:\n",
    "herbivore.set_fluxes(grazing)\n",
    "\n",
    "# <2.4> Lake:\n",
    "# <2.4.1> Input:\n",
    "benthic_npp = 0.00389\n",
    "pelagic_gpp = 0.00274\n",
    "lake_water_IC_in = active_layer_IC_2_lake\n",
    "lake_water_OC_in = active_layer_OC_2_lake\n",
    "# <2.4.2> Eolian deposition:\n",
    "lake_deposition = 0.00199\n",
    "# <2.4.3> Respiration:\n",
    "benthic_respiration = 0.00364\n",
    "pelagic_resp_auto = 0.000997\n",
    "pelagic_resp_hetero = 0.000572 # lake Rh summer\n",
    "lake_resp_hetero = 0.000477 # lake Rh winter\n",
    "# <2.4.4> Sediment incorporation:\n",
    "sediment_accumulation = 0.00257\n",
    "# <2.4.5> Export via runoff:\n",
    "lake_water_IC_out = 0.0000574\n",
    "lake_water_OC_out = 0.0000293\n",
    "# <2.4.6> Export to atmosphere:\n",
    "lake_emission = 0.00379\n",
    "# <2.4.6> Set lake fluxes:\n",
    "lake.set_fluxes(benthic_npp, benthic_respiration, pelagic_gpp, pelagic_resp_auto, pelagic_resp_hetero, lake_resp_hetero, sediment_accumulation, lake_emission, lake_deposition, lake_water_IC_out, lake_water_OC_out, lake_water_IC_in, lake_water_OC_in)"
   ]
  },
  {
   "cell_type": "code",
   "execution_count": 16,
   "metadata": {
    "tags": []
   },
   "outputs": [
    {
     "output_type": "stream",
     "name": "stdout",
     "text": [
      "Green = [72.0, 28.0, 44.0, 18.0]\nBryo = [71.5, 0, 19.0, 91.0]\nNPP = [165.45, 112.0, 181.7, 81.29999999999998]\n"
     ]
    }
   ],
   "source": [
    "print('Green =', [x * 1000 for x in [vegetation.green_betula, vegetation.green_grass, vegetation.green_meadow, vegetation.green_wetland]])\n",
    "print('Bryo =', [x * 1000 for x in [vegetation.bryo_betula, vegetation.bryo_grass, vegetation.bryo_meadow, vegetation.bryo_wetland]])\n",
    "print('NPP =', [x * 1000 for x in [vegetation.npp_betula, vegetation.npp_grass, vegetation.npp_meadow, vegetation.npp_wetland]])"
   ]
  },
  {
   "cell_type": "code",
   "execution_count": null,
   "metadata": {},
   "outputs": [],
   "source": [
    "# <3> Let the model run for n timesteps:\n",
    "# <3.1> Book keeping the pool states:\n",
    "pool_soil_active = []\n",
    "pool_soil_permafrost = []\n",
    "pool_vegetation = []\n",
    "pool_herbivore = []\n",
    "pool_lake = []\n",
    "pool_iterations = []\n",
    "# <3.2> Add initial values:\n",
    "pool_iterations.append(0)\n",
    "pool_soil_active.append(soil.soc_active_total)\n",
    "pool_soil_permafrost.append(soil.soc_permafrost_total)\n",
    "pool_vegetation.append(vegetation.total_biomass)\n",
    "pool_herbivore.append(herbivore.total_biomass)\n",
    "pool_lake.append(lake.total_carbon)\n",
    "# <3.3> Run:\n",
    "for i in range(1, 101):\n",
    "    # Vegetation:\n",
    "    vegetation.import_to_veg()\n",
    "    vegetation.export_to_soil()\n",
    "    print('NPP =', vegetation.total_npp)\n",
    "    # Soil:\n",
    "    soil.do_active_layer_accumulation()\n",
    "    soil.do_respiration()\n",
    "    soil.do_permafrost_layer_accumulation()\n",
    "    soil.do_active_layer_IC_erosion()\n",
    "    soil.do_active_layer_OC_erosion()\n",
    "    # Herbivores:\n",
    "    herbivore.do_grazing()\n",
    "    herbivore.burn_calories()\n",
    "    # Lake:\n",
    "    lake.import_OC()\n",
    "    lake.import_IC()\n",
    "    lake.lake_to_atmo()\n",
    "    lake.atmo_to_lake()\n",
    "    lake.export_IC_downstream()\n",
    "    lake.export_OC_downstream()\n",
    "    lake.lake_production()\n",
    "    lake.sediment_incorporation()\n",
    "    lake.update_total_carbon()\n",
    "    # Pools:\n",
    "    pool_iterations.append(i)\n",
    "    pool_soil_active.append(soil.soc_active_total)\n",
    "    pool_soil_permafrost.append(soil.soc_permafrost_total)\n",
    "    pool_vegetation.append(vegetation.total_biomass)\n",
    "    pool_herbivore.append(herbivore.total_biomass)\n",
    "    pool_lake.append(lake.total_carbon)\n",
    "\n",
    "pool_df = pd.DataFrame({'Iteration':pool_iterations, 'Soil Active Carbon':pool_soil_active, 'Soil Permafrost Carbon':pool_soil_permafrost, 'Vegetation Carbon':pool_vegetation, 'Herbivore Carbon':pool_herbivore, 'Lake Carbon':pool_lake})"
   ]
  },
  {
   "cell_type": "code",
   "execution_count": null,
   "metadata": {},
   "outputs": [],
   "source": [
    "pool_df"
   ]
  },
  {
   "cell_type": "code",
   "execution_count": null,
   "metadata": {},
   "outputs": [],
   "source": [
    "pool_df['Soil Active Carbon'].plot()\n",
    "pool_df['Soil Permafrost Carbon'].plot()\n",
    "pool_df['Vegetation Carbon'].plot()\n",
    "pool_df['Herbivore Carbon'].plot()\n",
    "pool_df['Lake Carbon'].plot()\n",
    "plt.legend()"
   ]
  },
  {
   "cell_type": "code",
   "execution_count": null,
   "metadata": {},
   "outputs": [],
   "source": []
  },
  {
   "cell_type": "code",
   "execution_count": null,
   "metadata": {},
   "outputs": [],
   "source": [
    "# test\n",
    "print('Vegetation total carbon =', res_veg.total_biomass, 'kg')\n",
    "print('Soil active layer total carbon =', res_soil.soc_active_total, 'kg')\n",
    "print('Soil permafrost layer total carbon =', res_soil.soc_permafrost_total, 'kg')\n",
    "print('Herbivore total carbon =', res_animals.total_biomass, 'kg')\n",
    "print('Total terrestrial carbon =', res_veg.total_biomass + res_soil.soc_active_total + res_soil.soc_permafrost_total + res_animals.total_biomass, 'kg')\n",
    "print('Lake total carbon =', res_lake.total_carbon, 'kg')\n",
    "print('NPP =', res_veg.total_npp, 'kg/a')"
   ]
  },
  {
   "cell_type": "code",
   "execution_count": null,
   "metadata": {},
   "outputs": [],
   "source": [
    "fig = plt.figure(dpi=150)\n",
    "reservoirs = [res_veg.total_biomass, res_soil.soc_active_total, res_soil.soc_permafrost_total, res_animals.total_biomass, res_lake.total_carbon]\n",
    "pos = [1, 2, 3, 4, 5]\n",
    "plt.bar(pos, reservoirs)\n",
    "plt.xticks(pos, ('Vegetation', r'$SOC_{active}$', r'$SOC_{permafrost}$', 'Herbivores', 'Lake'))\n",
    "plt.show()"
   ]
  },
  {
   "cell_type": "code",
   "execution_count": null,
   "metadata": {},
   "outputs": [],
   "source": [
    "# <2.2> Productivity vascular tissue:\n",
    "prod_vasc_betula = 1\n",
    "prod_vasc_grass = 3\n",
    "prod_vasc_meadow = 3\n",
    "prod_vasc_wetland = 2\n",
    "# <2.3> Productivity bryophytes:\n",
    "prod_bryo = 0.3\n",
    "\n",
    "prod_vasc = [1,3,3,2]\n",
    "prod_bryo = [0.3, 0.3, 0.3, 0.3]\n",
    "\n"
   ]
  },
  {
   "cell_type": "code",
   "execution_count": null,
   "metadata": {},
   "outputs": [],
   "source": [
    "res_veg.alter_productivity_npp([2,3,3,2], [0.3,0.3,0.3,0.3])"
   ]
  },
  {
   "cell_type": "code",
   "execution_count": null,
   "metadata": {},
   "outputs": [],
   "source": [
    "print('NPP =', res_veg.total_npp, 'kg/a')\n",
    "new_npp = res_veg.alter_productivity_npp([0.3,0.3,0.3,0.3], [1,3,3,2])\n",
    "print('NPP new =', new_npp, 'kg/a')\n",
    "print('Delta NPP =', new_npp - res_veg.total_npp, 'kg/a')"
   ]
  }
 ]
}