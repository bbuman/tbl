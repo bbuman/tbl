{
 "metadata": {
  "language_info": {
   "codemirror_mode": {
    "name": "ipython",
    "version": 3
   },
   "file_extension": ".py",
   "mimetype": "text/x-python",
   "name": "python",
   "nbconvert_exporter": "python",
   "pygments_lexer": "ipython3",
   "version": "3.8.5-final"
  },
  "orig_nbformat": 2,
  "kernelspec": {
   "name": "python3",
   "display_name": "Python 3"
  }
 },
 "nbformat": 4,
 "nbformat_minor": 2,
 "cells": [
  {
   "cell_type": "code",
   "execution_count": 1,
   "metadata": {},
   "outputs": [],
   "source": [
    "# compartments\n",
    "import box_lake \n",
    "import box_soil\n",
    "import box_vegetation\n",
    "import box_herbivores\n",
    "import box_terrestrial\n",
    "# additional\n",
    "import numpy as np\n",
    "import matplotlib.pyplot as plt\n",
    "import pandas as pd"
   ]
  },
  {
   "source": [
    "# -1- Initialize the pools!"
   ],
   "cell_type": "markdown",
   "metadata": {}
  },
  {
   "cell_type": "code",
   "execution_count": 2,
   "metadata": {},
   "outputs": [],
   "source": [
    "# <1> Geometrical:\n",
    "# <1.1> Convert from km2 to m2\n",
    "km2_to_m2 = 1000000\n",
    "# <1.2> Total catchment area:\n",
    "area_catchment = 1.56 * km2_to_m2 \n",
    "# <1.3> Terrestrial area:\n",
    "area_terr = 1.18 * km2_to_m2 \n",
    "# <1.4> Different terrestrial features [%]:\n",
    "area_bedrock = 7\n",
    "area_non_veg = 15\n",
    "area_betula = 14\n",
    "area_grass = 20\n",
    "area_meadow = 38\n",
    "area_wetland = 7\n",
    "# <1.5> Aquatic area:\n",
    "area_lake = 0.38 * km2_to_m2\n",
    "# <1.6> Different aquatic features:\n",
    "area_lake_above16 = 0.22 * km2_to_m2\n",
    "area_lake_below16 = 0.16 * km2_to_m2\n",
    "# <1.7> Aquatic volume [m3]:\n",
    "volume_lake = 4250000 \n",
    "# <1.8> Different volume features:\n",
    "volume_above14 = 3178000\n",
    "volume_below14 = 1072000\n",
    "# <1.9> Aquatic depth [m]:\n",
    "depth_max_lake = 29.9\n",
    "depth_mean_lake = 11.3\n",
    "\n",
    "# <2> Biophysical parameterization:\n",
    "# <2.1> Root to shoot ratio:\n",
    "root_shoot_betula = 2\n",
    "root_shoot_grass = 6\n",
    "root_shoot_meadow = 6\n",
    "root_shoot_wetland = 6\n",
    "# <2.4> Green AGB [kg C / m2]:\n",
    "green_betula = 0.072\n",
    "green_grass = 0.028\n",
    "green_meadow = 0.044\n",
    "green_wetland = 0.018\n",
    "# <2.5> Bryophyte AGB [kg C / m2]:\n",
    "bryo_betula = 0.157\n",
    "bryo_grass = 0\n",
    "bryo_meadow = 0.019\n",
    "bryo_wetland = 0.091\n",
    "# <2.6> Litter AGB [kg C / m2]:\n",
    "agb_litter_betula = 0.931\n",
    "agb_litter_grass = 0.285\n",
    "agb_litter_meadow = 0.495\n",
    "agb_litter_wetland = 0.576\n",
    "# <2.7> Wood AGB [kg C / m2]:\n",
    "wood_betula = 0.786\n",
    "wood_grass = 0\n",
    "wood_meadow = 0\n",
    "wood_wetland = 0.039\n",
    "# <2.8> Roots [kg C / m2]:\n",
    "roots_betula = 2.230\n",
    "roots_grass = 0.950\n",
    "roots_meadow = 1.520\n",
    "roots_wetland = 1.090\n",
    "# <2.9> Benthic organisms [kg C / m2]:\n",
    "# <2.9.1> Macrophytes:\n",
    "benthic_macrophytes = 0.0878\n",
    "# <2.9.2> Macro Fauna:\n",
    "benthic_macrofauna = 0.000324\n",
    "# <2.9.3> Bacteria:\n",
    "benthic_bacteria = 0.000883\n",
    "# <2.10> Aquatic organisms [kg C / m3]:\n",
    "# <2.10.1> Phytoplankton:\n",
    "phytoplankton = 0.0000289\n",
    "# <2.10.2> Zooplankton:\n",
    "zooplankton = 0.0000412\n",
    "# <2.10.3> Bacterioplankton:\n",
    "bacterioplankton = 0.0000143\n",
    "# <2.11> Water dissolved carbon [kg C / m3]:\n",
    "# <2.11.1> Inorganic carbon:\n",
    "lake_water_IC = 0.0169\n",
    "# <2.11.2> Organic carbon:\n",
    "lake_water_OC = 0.00861\n",
    "# <2.12> Lake sediment carbon [kg C / m2]:\n",
    "lake_sediment = 10\n",
    "# <2.13> Herbivore mass [kg C / m2]\n",
    "herbivore_mass = 0.000872\n",
    "\n",
    "# <3> Geochemical parameterization:\n",
    "# <3.1> SOC active layer:\n",
    "soc_active_bedrock = 0\n",
    "soc_active_non_veg = 7.05\n",
    "soc_active_betula = 22.1\n",
    "soc_active_grass = 10.3\n",
    "soc_active_meadow = 13.3\n",
    "soc_active_wetland = 18.5\n",
    "# <3.2> SOC permafrost layer:\n",
    "soc_permafrost_bedrock = 0\n",
    "soc_permafrost_non_veg = 2.85\n",
    "soc_permafrost_betula = 11.7\n",
    "soc_permafrost_grass = 2.8\n",
    "soc_permafrost_meadow = 10.1\n",
    "soc_permafrost_wetland = 17.7\n"
   ]
  },
  {
   "cell_type": "code",
   "execution_count": 3,
   "metadata": {},
   "outputs": [],
   "source": [
    "# <1> Create the pools:\n",
    "# <1.1> Soil:\n",
    "soil = box_soil.Soil(area_terr, area_bedrock, area_non_veg, area_betula, area_grass, area_meadow, area_wetland,\n",
    "0, 0, roots_betula, roots_grass, roots_meadow, roots_wetland, soc_active_bedrock, soc_active_non_veg, soc_active_betula,\n",
    "soc_active_grass, soc_active_meadow, soc_active_wetland, soc_permafrost_bedrock, soc_permafrost_non_veg, \n",
    "soc_permafrost_betula, soc_permafrost_grass, soc_permafrost_meadow, soc_permafrost_wetland)\n",
    "# <1.2> Vegetation:\n",
    "vegetation = box_vegetation.Vegetation(area_terr, area_bedrock, area_non_veg, \n",
    "area_betula, area_grass, area_meadow, area_wetland, root_shoot_betula, root_shoot_grass, \n",
    "root_shoot_meadow, root_shoot_wetland, green_betula, green_grass, green_meadow, green_wetland, \n",
    "bryo_betula, bryo_grass, bryo_meadow, bryo_wetland, roots_betula, roots_grass, roots_meadow, \n",
    "roots_wetland, wood_betula, wood_grass, wood_meadow, wood_wetland, agb_litter_betula, agb_litter_grass,\n",
    "agb_litter_meadow, agb_litter_wetland)\n",
    "# <1.3> Lake:\n",
    "lake = box_lake.Lake(area_lake, volume_lake, benthic_macrophytes, benthic_macrofauna, benthic_bacteria, \n",
    "phytoplankton, zooplankton, bacterioplankton, lake_water_IC, lake_water_OC, lake_sediment)\n",
    "# <1.4> Herbivores:\n",
    "herbivore = box_herbivores.Herbivores(area_terr,  herbivore_mass)"
   ]
  },
  {
   "cell_type": "code",
   "execution_count": 4,
   "metadata": {},
   "outputs": [
    {
     "output_type": "stream",
     "name": "stdout",
     "text": [
      "Soil active layer carbon = 1.482139 [kg C / m2].\nSoil permafrost layer carbon= 9.08895 [kg C / m2].\nVegetation carbon= 8.326080000000001 [kg C / m2].\nHerbivore carbon= 1.02896 [kg C / m2].\nLake carbon= 3.94259886 [kg C / m2].\n"
     ]
    }
   ],
   "source": [
    "print('Soil active layer carbon =', (soil.soc_active_total / 10000000), '[kg C / m2].')\n",
    "print('Soil permafrost layer carbon=', (soil.soc_permafrost_total / 1000000), '[kg C / m2].')\n",
    "print('Vegetation carbon=', (vegetation.total_biomass / 100000), '[kg C / m2].')\n",
    "print('Herbivore carbon=', (herbivore.total_biomass / 1000), '[kg C / m2].')\n",
    "print('Lake carbon=', (lake.total_carbon / 1000000), '[kg C / m2].')"
   ]
  },
  {
   "cell_type": "code",
   "execution_count": 5,
   "metadata": {},
   "outputs": [
    {
     "output_type": "stream",
     "name": "stdout",
     "text": [
      "biomass_benthic_macrophyte = 3.3364\nbiomass_benthic_macrofauna 1.2312\nbiomass_benthic_bacteria 3.3554000000000004\nbiomass_phytoplankton 1.22825\nbiomass_zooplankton 1.751\nbiomass_bacterioplankton 6.0775\ntotal_IC 7.1825\ntotal_OC 3.65925\ncarbon_sediment 3.8\n"
     ]
    }
   ],
   "source": [
    "print('biomass_benthic_macrophyte =', (lake.biomass_benthic_macrophyte / 10000))\n",
    "print('biomass_benthic_macrofauna', (lake.biomass_benthic_macrofauna / 100))\n",
    "print('biomass_benthic_bacteria', (lake.biomass_benthic_bacteria / 100))\n",
    "print('biomass_phytoplankton', (lake.biomass_phytoplankton / 100))\n",
    "print('biomass_zooplankton', (lake.biomass_zooplankton / 100))\n",
    "print('biomass_bacterioplankton', (lake.biomass_bacterioplankton / 10))\n",
    "print('total_IC', (lake.total_IC / 10000))\n",
    "print('total_OC', (lake.total_OC / 10000))\n",
    "print('carbon_sediment', (lake.carbon_sediment / 1000000))"
   ]
  },
  {
   "cell_type": "code",
   "execution_count": 6,
   "metadata": {},
   "outputs": [],
   "source": [
    "# <2> Define the fluxes:\n",
    "# <2.1> Vegetation\n",
    "# <2.1.1> Productivity vascular tissue:\n",
    "prod_vasc_betula = 1\n",
    "prod_vasc_grass = 3\n",
    "prod_vasc_meadow = 3\n",
    "prod_vasc_wetland = 2\n",
    "# <2.1.2> Productivity bryophytes:\n",
    "prod_bryo_betula = 0.3\n",
    "prod_bryo_grass = 0.3\n",
    "prod_bryo_meadow = 0.3\n",
    "prod_bryo_wetland = 0.3\n",
    "# <2.1.3> Flux of NPP to SOC layer [kg C / m2 a]:\n",
    "veg_to_soil = 0.138 \n",
    "# <2.1.4> Set vegetation fluxes:\n",
    "vegetation.set_fluxes(prod_vasc_betula, prod_vasc_grass, prod_vasc_meadow,\n",
    "prod_vasc_wetland, prod_bryo_betula, prod_bryo_grass, prod_bryo_meadow, prod_bryo_wetland, veg_to_soil)\n",
    "\n",
    "# <2.2> Soil\n",
    "# <2.2.1> Input:\n",
    "soil_accumulation = veg_to_soil\n",
    "# <2.2.2> Respiration:\n",
    "soil_respiration = 0.13\n",
    "# <2.2.3> Export to Permafrost:\n",
    "active_layer_2_permafrost = 0.00294\n",
    "# <2.2.4> Export to Lake:\n",
    "active_layer_OC_2_lake = 0.00136 + 0.00126 # non-spring + spring\n",
    "active_layer_IC_2_lake = 0.00827\n",
    "# <2.2.5> Set soil fluxes:\n",
    "soil.set_fluxes(soil_respiration, soil_accumulation, active_layer_2_permafrost, active_layer_IC_2_lake, active_layer_OC_2_lake) \n",
    "\n",
    "# <2.3> Herbivores:\n",
    "# <2.3.1> Input / output:\n",
    "grazing = 0.00884\n",
    "# <2.3.2> Set herbivore fluxes:\n",
    "herbivore.set_fluxes(grazing)\n",
    "\n",
    "# <2.4> Lake:\n",
    "# <2.4.1> Input:\n",
    "benthic_npp = 0.00389\n",
    "pelagic_gpp = 0.00274\n",
    "lake_water_IC_in = active_layer_IC_2_lake\n",
    "lake_water_OC_in = active_layer_OC_2_lake\n",
    "# <2.4.2> Eolian deposition:\n",
    "lake_deposition = 0.00199\n",
    "# <2.4.3> Respiration:\n",
    "benthic_respiration = 0.00364\n",
    "pelagic_resp_auto = 0.000997\n",
    "pelagic_resp_hetero = 0.000572 # lake Rh summer\n",
    "lake_resp_hetero = 0.000477 # lake Rh winter\n",
    "# <2.4.4> Sediment incorporation:\n",
    "sediment_accumulation = 0.00257\n",
    "# <2.4.5> Export via runoff:\n",
    "lake_water_IC_out = 0.0000574\n",
    "lake_water_OC_out = 0.0000293\n",
    "# <2.4.6> Export to atmosphere:\n",
    "lake_emission = 0.00379\n",
    "# <2.4.6> Set lake fluxes:\n",
    "lake.set_fluxes(benthic_npp, benthic_respiration, pelagic_gpp, pelagic_resp_auto, pelagic_resp_hetero, lake_resp_hetero, sediment_accumulation, lake_emission, lake_deposition, lake_water_IC_out, lake_water_OC_out, lake_water_IC_in, lake_water_OC_in)"
   ]
  },
  {
   "cell_type": "code",
   "execution_count": 13,
   "metadata": {},
   "outputs": [
    {
     "output_type": "stream",
     "name": "stdout",
     "text": [
      "NPP = 106472.58000000002\nNPP = 106472.58000000002\nNPP = 106472.58000000002\nNPP = 106472.58000000002\nNPP = 106472.58000000002\nNPP = 106472.58000000002\nNPP = 106472.58000000002\nNPP = 106472.58000000002\nNPP = 106472.58000000002\nNPP = 106472.58000000002\nNPP = 106472.58000000002\nNPP = 106472.58000000002\nNPP = 106472.58000000002\nNPP = 106472.58000000002\nNPP = 106472.58000000002\nNPP = 106472.58000000002\nNPP = 106472.58000000002\nNPP = 106472.58000000002\nNPP = 106472.58000000002\nNPP = 106472.58000000002\nNPP = 106472.58000000002\nNPP = 106472.58000000002\nNPP = 106472.58000000002\nNPP = 106472.58000000002\nNPP = 106472.58000000002\nNPP = 106472.58000000002\nNPP = 106472.58000000002\nNPP = 106472.58000000002\nNPP = 106472.58000000002\nNPP = 106472.58000000002\nNPP = 106472.58000000002\nNPP = 106472.58000000002\nNPP = 106472.58000000002\nNPP = 106472.58000000002\nNPP = 106472.58000000002\nNPP = 106472.58000000002\nNPP = 106472.58000000002\nNPP = 106472.58000000002\nNPP = 106472.58000000002\nNPP = 106472.58000000002\nNPP = 106472.58000000002\nNPP = 106472.58000000002\nNPP = 106472.58000000002\nNPP = 106472.58000000002\nNPP = 106472.58000000002\nNPP = 106472.58000000002\nNPP = 106472.58000000002\nNPP = 106472.58000000002\nNPP = 106472.58000000002\nNPP = 106472.58000000002\nNPP = 106472.58000000002\nNPP = 106472.58000000002\nNPP = 106472.58000000002\nNPP = 106472.58000000002\nNPP = 106472.58000000002\nNPP = 106472.58000000002\nNPP = 106472.58000000002\nNPP = 106472.58000000002\nNPP = 106472.58000000002\nNPP = 106472.58000000002\nNPP = 106472.58000000002\nNPP = 106472.58000000002\nNPP = 106472.58000000002\nNPP = 106472.58000000002\nNPP = 106472.58000000002\nNPP = 106472.58000000002\nNPP = 106472.58000000002\nNPP = 106472.58000000002\nNPP = 106472.58000000002\nNPP = 106472.58000000002\nNPP = 106472.58000000002\nNPP = 106472.58000000002\nNPP = 106472.58000000002\nNPP = 106472.58000000002\nNPP = 106472.58000000002\nNPP = 106472.58000000002\nNPP = 106472.58000000002\nNPP = 106472.58000000002\nNPP = 106472.58000000002\nNPP = 106472.58000000002\nNPP = 106472.58000000002\nNPP = 106472.58000000002\nNPP = 106472.58000000002\nNPP = 106472.58000000002\nNPP = 106472.58000000002\nNPP = 106472.58000000002\nNPP = 106472.58000000002\nNPP = 106472.58000000002\nNPP = 106472.58000000002\nNPP = 106472.58000000002\nNPP = 106472.58000000002\nNPP = 106472.58000000002\nNPP = 106472.58000000002\nNPP = 106472.58000000002\nNPP = 106472.58000000002\nNPP = 106472.58000000002\nNPP = 106472.58000000002\nNPP = 106472.58000000002\nNPP = 106472.58000000002\nNPP = 106472.58000000002\n"
     ]
    }
   ],
   "source": [
    "# <3> Let the model run for n timesteps:\n",
    "# <3.1> Book keeping the pool states:\n",
    "pool_soil_active = []\n",
    "pool_soil_permafrost = []\n",
    "pool_vegetation = []\n",
    "pool_herbivore = []\n",
    "pool_lake = []\n",
    "pool_iterations = []\n",
    "# <3.2> Add initial values:\n",
    "pool_iterations.append(0)\n",
    "pool_soil_active.append(soil.soc_active_total)\n",
    "pool_soil_permafrost.append(soil.soc_permafrost_total)\n",
    "pool_vegetation.append(vegetation.total_biomass)\n",
    "pool_herbivore.append(herbivore.total_biomass)\n",
    "pool_lake.append(lake.total_carbon)\n",
    "# <3.3> Run:\n",
    "for i in range(1, 101):\n",
    "    # Vegetation:\n",
    "    vegetation.import_to_veg()\n",
    "    vegetation.export_to_soil()\n",
    "    print('NPP =', vegetation.total_npp)\n",
    "    # Soil:\n",
    "    soil.do_active_layer_accumulation()\n",
    "    soil.do_respiration()\n",
    "    soil.do_permafrost_layer_accumulation()\n",
    "    soil.do_active_layer_IC_erosion()\n",
    "    soil.do_active_layer_OC_erosion()\n",
    "    # Herbivores:\n",
    "    herbivore.do_grazing()\n",
    "    herbivore.burn_calories()\n",
    "    # Lake:\n",
    "    lake.import_OC()\n",
    "    lake.import_IC()\n",
    "    lake.lake_to_atmo()\n",
    "    lake.atmo_to_lake()\n",
    "    lake.export_IC_downstream()\n",
    "    lake.export_OC_downstream()\n",
    "    lake.lake_production()\n",
    "    lake.sediment_incorporation()\n",
    "    lake.update_total_carbon()\n",
    "    # Pools:\n",
    "    pool_iterations.append(i)\n",
    "    pool_soil_active.append(soil.soc_active_total)\n",
    "    pool_soil_permafrost.append(soil.soc_permafrost_total)\n",
    "    pool_vegetation.append(vegetation.total_biomass)\n",
    "    pool_herbivore.append(herbivore.total_biomass)\n",
    "    pool_lake.append(lake.total_carbon)\n",
    "\n",
    "pool_df = pd.DataFrame({'Iteration':pool_iterations, 'Soil Active Carbon':pool_soil_active, 'Soil Permafrost Carbon':pool_soil_permafrost, 'Vegetation Carbon':pool_vegetation, 'Herbivore Carbon':pool_herbivore, 'Lake Carbon':pool_lake})"
   ]
  },
  {
   "cell_type": "code",
   "execution_count": 8,
   "metadata": {},
   "outputs": [
    {
     "output_type": "execute_result",
     "data": {
      "text/plain": [
       "     Iteration  Soil Active Carbon  Soil Permafrost Carbon  Vegetation Carbon  \\\n",
       "0            0          14821390.0               9088950.0          832608.00   \n",
       "1            1          14817979.8               9092419.2          776240.58   \n",
       "2            2          14814569.6               9095888.4          719873.16   \n",
       "3            3          14811159.4               9099357.6          663505.74   \n",
       "4            4          14807749.2               9102826.8          607138.32   \n",
       "..         ...                 ...                     ...                ...   \n",
       "96          96          14494010.8               9421993.2        -4578664.32   \n",
       "97          97          14490600.6               9425462.4        -4635031.74   \n",
       "98          98          14487190.4               9428931.6        -4691399.16   \n",
       "99          99          14483780.2               9432400.8        -4747766.58   \n",
       "100        100          14480370.0               9435870.0        -4804134.00   \n",
       "\n",
       "     Herbivore Carbon   Lake Carbon  \n",
       "0             1028.96  3.942599e+06  \n",
       "1             1028.96  3.941641e+06  \n",
       "2             1028.96  3.940684e+06  \n",
       "3             1028.96  3.939726e+06  \n",
       "4             1028.96  3.938769e+06  \n",
       "..                ...           ...  \n",
       "96            1028.96  3.850682e+06  \n",
       "97            1028.96  3.849725e+06  \n",
       "98            1028.96  3.848767e+06  \n",
       "99            1028.96  3.847810e+06  \n",
       "100           1028.96  3.846853e+06  \n",
       "\n",
       "[101 rows x 6 columns]"
      ],
      "text/html": "<div>\n<style scoped>\n    .dataframe tbody tr th:only-of-type {\n        vertical-align: middle;\n    }\n\n    .dataframe tbody tr th {\n        vertical-align: top;\n    }\n\n    .dataframe thead th {\n        text-align: right;\n    }\n</style>\n<table border=\"1\" class=\"dataframe\">\n  <thead>\n    <tr style=\"text-align: right;\">\n      <th></th>\n      <th>Iteration</th>\n      <th>Soil Active Carbon</th>\n      <th>Soil Permafrost Carbon</th>\n      <th>Vegetation Carbon</th>\n      <th>Herbivore Carbon</th>\n      <th>Lake Carbon</th>\n    </tr>\n  </thead>\n  <tbody>\n    <tr>\n      <th>0</th>\n      <td>0</td>\n      <td>14821390.0</td>\n      <td>9088950.0</td>\n      <td>832608.00</td>\n      <td>1028.96</td>\n      <td>3.942599e+06</td>\n    </tr>\n    <tr>\n      <th>1</th>\n      <td>1</td>\n      <td>14817979.8</td>\n      <td>9092419.2</td>\n      <td>776240.58</td>\n      <td>1028.96</td>\n      <td>3.941641e+06</td>\n    </tr>\n    <tr>\n      <th>2</th>\n      <td>2</td>\n      <td>14814569.6</td>\n      <td>9095888.4</td>\n      <td>719873.16</td>\n      <td>1028.96</td>\n      <td>3.940684e+06</td>\n    </tr>\n    <tr>\n      <th>3</th>\n      <td>3</td>\n      <td>14811159.4</td>\n      <td>9099357.6</td>\n      <td>663505.74</td>\n      <td>1028.96</td>\n      <td>3.939726e+06</td>\n    </tr>\n    <tr>\n      <th>4</th>\n      <td>4</td>\n      <td>14807749.2</td>\n      <td>9102826.8</td>\n      <td>607138.32</td>\n      <td>1028.96</td>\n      <td>3.938769e+06</td>\n    </tr>\n    <tr>\n      <th>...</th>\n      <td>...</td>\n      <td>...</td>\n      <td>...</td>\n      <td>...</td>\n      <td>...</td>\n      <td>...</td>\n    </tr>\n    <tr>\n      <th>96</th>\n      <td>96</td>\n      <td>14494010.8</td>\n      <td>9421993.2</td>\n      <td>-4578664.32</td>\n      <td>1028.96</td>\n      <td>3.850682e+06</td>\n    </tr>\n    <tr>\n      <th>97</th>\n      <td>97</td>\n      <td>14490600.6</td>\n      <td>9425462.4</td>\n      <td>-4635031.74</td>\n      <td>1028.96</td>\n      <td>3.849725e+06</td>\n    </tr>\n    <tr>\n      <th>98</th>\n      <td>98</td>\n      <td>14487190.4</td>\n      <td>9428931.6</td>\n      <td>-4691399.16</td>\n      <td>1028.96</td>\n      <td>3.848767e+06</td>\n    </tr>\n    <tr>\n      <th>99</th>\n      <td>99</td>\n      <td>14483780.2</td>\n      <td>9432400.8</td>\n      <td>-4747766.58</td>\n      <td>1028.96</td>\n      <td>3.847810e+06</td>\n    </tr>\n    <tr>\n      <th>100</th>\n      <td>100</td>\n      <td>14480370.0</td>\n      <td>9435870.0</td>\n      <td>-4804134.00</td>\n      <td>1028.96</td>\n      <td>3.846853e+06</td>\n    </tr>\n  </tbody>\n</table>\n<p>101 rows × 6 columns</p>\n</div>"
     },
     "metadata": {},
     "execution_count": 8
    }
   ],
   "source": [
    "pool_df"
   ]
  },
  {
   "cell_type": "code",
   "execution_count": 12,
   "metadata": {},
   "outputs": [
    {
     "output_type": "execute_result",
     "data": {
      "text/plain": [
       "<matplotlib.legend.Legend at 0x205de6b1eb0>"
      ]
     },
     "metadata": {},
     "execution_count": 12
    },
    {
     "output_type": "display_data",
     "data": {
      "text/plain": "<Figure size 432x288 with 1 Axes>",
      "image/svg+xml": "<?xml version=\"1.0\" encoding=\"utf-8\" standalone=\"no\"?>\r\n<!DOCTYPE svg PUBLIC \"-//W3C//DTD SVG 1.1//EN\"\r\n  \"http://www.w3.org/Graphics/SVG/1.1/DTD/svg11.dtd\">\r\n<!-- Created with matplotlib (https://matplotlib.org/) -->\r\n<svg height=\"259.116562pt\" version=\"1.1\" viewBox=\"0 0 386.845312 259.116562\" width=\"386.845312pt\" xmlns=\"http://www.w3.org/2000/svg\" xmlns:xlink=\"http://www.w3.org/1999/xlink\">\r\n <metadata>\r\n  <rdf:RDF xmlns:cc=\"http://creativecommons.org/ns#\" xmlns:dc=\"http://purl.org/dc/elements/1.1/\" xmlns:rdf=\"http://www.w3.org/1999/02/22-rdf-syntax-ns#\">\r\n   <cc:Work>\r\n    <dc:type rdf:resource=\"http://purl.org/dc/dcmitype/StillImage\"/>\r\n    <dc:date>2020-12-07T14:56:58.316499</dc:date>\r\n    <dc:format>image/svg+xml</dc:format>\r\n    <dc:creator>\r\n     <cc:Agent>\r\n      <dc:title>Matplotlib v3.3.3, https://matplotlib.org/</dc:title>\r\n     </cc:Agent>\r\n    </dc:creator>\r\n   </cc:Work>\r\n  </rdf:RDF>\r\n </metadata>\r\n <defs>\r\n  <style type=\"text/css\">*{stroke-linecap:butt;stroke-linejoin:round;}</style>\r\n </defs>\r\n <g id=\"figure_1\">\r\n  <g id=\"patch_1\">\r\n   <path d=\"M 0 259.116562 \r\nL 386.845312 259.116562 \r\nL 386.845312 0 \r\nL 0 0 \r\nz\r\n\" style=\"fill:none;\"/>\r\n  </g>\r\n  <g id=\"axes_1\">\r\n   <g id=\"patch_2\">\r\n    <path d=\"M 44.845313 235.238437 \r\nL 379.645313 235.238437 \r\nL 379.645313 17.798437 \r\nL 44.845313 17.798437 \r\nz\r\n\" style=\"fill:#ffffff;\"/>\r\n   </g>\r\n   <g id=\"matplotlib.axis_1\">\r\n    <g id=\"xtick_1\">\r\n     <g id=\"line2d_1\">\r\n      <defs>\r\n       <path d=\"M 0 0 \r\nL 0 3.5 \r\n\" id=\"m03f33aef1d\" style=\"stroke:#000000;stroke-width:0.8;\"/>\r\n      </defs>\r\n      <g>\r\n       <use style=\"stroke:#000000;stroke-width:0.8;\" x=\"60.063494\" xlink:href=\"#m03f33aef1d\" y=\"235.238437\"/>\r\n      </g>\r\n     </g>\r\n     <g id=\"text_1\">\r\n      <!-- 0 -->\r\n      <g transform=\"translate(56.882244 249.836875)scale(0.1 -0.1)\">\r\n       <defs>\r\n        <path d=\"M 31.78125 66.40625 \r\nQ 24.171875 66.40625 20.328125 58.90625 \r\nQ 16.5 51.421875 16.5 36.375 \r\nQ 16.5 21.390625 20.328125 13.890625 \r\nQ 24.171875 6.390625 31.78125 6.390625 \r\nQ 39.453125 6.390625 43.28125 13.890625 \r\nQ 47.125 21.390625 47.125 36.375 \r\nQ 47.125 51.421875 43.28125 58.90625 \r\nQ 39.453125 66.40625 31.78125 66.40625 \r\nz\r\nM 31.78125 74.21875 \r\nQ 44.046875 74.21875 50.515625 64.515625 \r\nQ 56.984375 54.828125 56.984375 36.375 \r\nQ 56.984375 17.96875 50.515625 8.265625 \r\nQ 44.046875 -1.421875 31.78125 -1.421875 \r\nQ 19.53125 -1.421875 13.0625 8.265625 \r\nQ 6.59375 17.96875 6.59375 36.375 \r\nQ 6.59375 54.828125 13.0625 64.515625 \r\nQ 19.53125 74.21875 31.78125 74.21875 \r\nz\r\n\" id=\"DejaVuSans-48\"/>\r\n       </defs>\r\n       <use xlink:href=\"#DejaVuSans-48\"/>\r\n      </g>\r\n     </g>\r\n    </g>\r\n    <g id=\"xtick_2\">\r\n     <g id=\"line2d_2\">\r\n      <g>\r\n       <use style=\"stroke:#000000;stroke-width:0.8;\" x=\"120.936222\" xlink:href=\"#m03f33aef1d\" y=\"235.238437\"/>\r\n      </g>\r\n     </g>\r\n     <g id=\"text_2\">\r\n      <!-- 20 -->\r\n      <g transform=\"translate(114.573722 249.836875)scale(0.1 -0.1)\">\r\n       <defs>\r\n        <path d=\"M 19.1875 8.296875 \r\nL 53.609375 8.296875 \r\nL 53.609375 0 \r\nL 7.328125 0 \r\nL 7.328125 8.296875 \r\nQ 12.9375 14.109375 22.625 23.890625 \r\nQ 32.328125 33.6875 34.8125 36.53125 \r\nQ 39.546875 41.84375 41.421875 45.53125 \r\nQ 43.3125 49.21875 43.3125 52.78125 \r\nQ 43.3125 58.59375 39.234375 62.25 \r\nQ 35.15625 65.921875 28.609375 65.921875 \r\nQ 23.96875 65.921875 18.8125 64.3125 \r\nQ 13.671875 62.703125 7.8125 59.421875 \r\nL 7.8125 69.390625 \r\nQ 13.765625 71.78125 18.9375 73 \r\nQ 24.125 74.21875 28.421875 74.21875 \r\nQ 39.75 74.21875 46.484375 68.546875 \r\nQ 53.21875 62.890625 53.21875 53.421875 \r\nQ 53.21875 48.921875 51.53125 44.890625 \r\nQ 49.859375 40.875 45.40625 35.40625 \r\nQ 44.1875 33.984375 37.640625 27.21875 \r\nQ 31.109375 20.453125 19.1875 8.296875 \r\nz\r\n\" id=\"DejaVuSans-50\"/>\r\n       </defs>\r\n       <use xlink:href=\"#DejaVuSans-50\"/>\r\n       <use x=\"63.623047\" xlink:href=\"#DejaVuSans-48\"/>\r\n      </g>\r\n     </g>\r\n    </g>\r\n    <g id=\"xtick_3\">\r\n     <g id=\"line2d_3\">\r\n      <g>\r\n       <use style=\"stroke:#000000;stroke-width:0.8;\" x=\"181.808949\" xlink:href=\"#m03f33aef1d\" y=\"235.238437\"/>\r\n      </g>\r\n     </g>\r\n     <g id=\"text_3\">\r\n      <!-- 40 -->\r\n      <g transform=\"translate(175.446449 249.836875)scale(0.1 -0.1)\">\r\n       <defs>\r\n        <path d=\"M 37.796875 64.3125 \r\nL 12.890625 25.390625 \r\nL 37.796875 25.390625 \r\nz\r\nM 35.203125 72.90625 \r\nL 47.609375 72.90625 \r\nL 47.609375 25.390625 \r\nL 58.015625 25.390625 \r\nL 58.015625 17.1875 \r\nL 47.609375 17.1875 \r\nL 47.609375 0 \r\nL 37.796875 0 \r\nL 37.796875 17.1875 \r\nL 4.890625 17.1875 \r\nL 4.890625 26.703125 \r\nz\r\n\" id=\"DejaVuSans-52\"/>\r\n       </defs>\r\n       <use xlink:href=\"#DejaVuSans-52\"/>\r\n       <use x=\"63.623047\" xlink:href=\"#DejaVuSans-48\"/>\r\n      </g>\r\n     </g>\r\n    </g>\r\n    <g id=\"xtick_4\">\r\n     <g id=\"line2d_4\">\r\n      <g>\r\n       <use style=\"stroke:#000000;stroke-width:0.8;\" x=\"242.681676\" xlink:href=\"#m03f33aef1d\" y=\"235.238437\"/>\r\n      </g>\r\n     </g>\r\n     <g id=\"text_4\">\r\n      <!-- 60 -->\r\n      <g transform=\"translate(236.319176 249.836875)scale(0.1 -0.1)\">\r\n       <defs>\r\n        <path d=\"M 33.015625 40.375 \r\nQ 26.375 40.375 22.484375 35.828125 \r\nQ 18.609375 31.296875 18.609375 23.390625 \r\nQ 18.609375 15.53125 22.484375 10.953125 \r\nQ 26.375 6.390625 33.015625 6.390625 \r\nQ 39.65625 6.390625 43.53125 10.953125 \r\nQ 47.40625 15.53125 47.40625 23.390625 \r\nQ 47.40625 31.296875 43.53125 35.828125 \r\nQ 39.65625 40.375 33.015625 40.375 \r\nz\r\nM 52.59375 71.296875 \r\nL 52.59375 62.3125 \r\nQ 48.875 64.0625 45.09375 64.984375 \r\nQ 41.3125 65.921875 37.59375 65.921875 \r\nQ 27.828125 65.921875 22.671875 59.328125 \r\nQ 17.53125 52.734375 16.796875 39.40625 \r\nQ 19.671875 43.65625 24.015625 45.921875 \r\nQ 28.375 48.1875 33.59375 48.1875 \r\nQ 44.578125 48.1875 50.953125 41.515625 \r\nQ 57.328125 34.859375 57.328125 23.390625 \r\nQ 57.328125 12.15625 50.6875 5.359375 \r\nQ 44.046875 -1.421875 33.015625 -1.421875 \r\nQ 20.359375 -1.421875 13.671875 8.265625 \r\nQ 6.984375 17.96875 6.984375 36.375 \r\nQ 6.984375 53.65625 15.1875 63.9375 \r\nQ 23.390625 74.21875 37.203125 74.21875 \r\nQ 40.921875 74.21875 44.703125 73.484375 \r\nQ 48.484375 72.75 52.59375 71.296875 \r\nz\r\n\" id=\"DejaVuSans-54\"/>\r\n       </defs>\r\n       <use xlink:href=\"#DejaVuSans-54\"/>\r\n       <use x=\"63.623047\" xlink:href=\"#DejaVuSans-48\"/>\r\n      </g>\r\n     </g>\r\n    </g>\r\n    <g id=\"xtick_5\">\r\n     <g id=\"line2d_5\">\r\n      <g>\r\n       <use style=\"stroke:#000000;stroke-width:0.8;\" x=\"303.554403\" xlink:href=\"#m03f33aef1d\" y=\"235.238437\"/>\r\n      </g>\r\n     </g>\r\n     <g id=\"text_5\">\r\n      <!-- 80 -->\r\n      <g transform=\"translate(297.191903 249.836875)scale(0.1 -0.1)\">\r\n       <defs>\r\n        <path d=\"M 31.78125 34.625 \r\nQ 24.75 34.625 20.71875 30.859375 \r\nQ 16.703125 27.09375 16.703125 20.515625 \r\nQ 16.703125 13.921875 20.71875 10.15625 \r\nQ 24.75 6.390625 31.78125 6.390625 \r\nQ 38.8125 6.390625 42.859375 10.171875 \r\nQ 46.921875 13.96875 46.921875 20.515625 \r\nQ 46.921875 27.09375 42.890625 30.859375 \r\nQ 38.875 34.625 31.78125 34.625 \r\nz\r\nM 21.921875 38.8125 \r\nQ 15.578125 40.375 12.03125 44.71875 \r\nQ 8.5 49.078125 8.5 55.328125 \r\nQ 8.5 64.0625 14.71875 69.140625 \r\nQ 20.953125 74.21875 31.78125 74.21875 \r\nQ 42.671875 74.21875 48.875 69.140625 \r\nQ 55.078125 64.0625 55.078125 55.328125 \r\nQ 55.078125 49.078125 51.53125 44.71875 \r\nQ 48 40.375 41.703125 38.8125 \r\nQ 48.828125 37.15625 52.796875 32.3125 \r\nQ 56.78125 27.484375 56.78125 20.515625 \r\nQ 56.78125 9.90625 50.3125 4.234375 \r\nQ 43.84375 -1.421875 31.78125 -1.421875 \r\nQ 19.734375 -1.421875 13.25 4.234375 \r\nQ 6.78125 9.90625 6.78125 20.515625 \r\nQ 6.78125 27.484375 10.78125 32.3125 \r\nQ 14.796875 37.15625 21.921875 38.8125 \r\nz\r\nM 18.3125 54.390625 \r\nQ 18.3125 48.734375 21.84375 45.5625 \r\nQ 25.390625 42.390625 31.78125 42.390625 \r\nQ 38.140625 42.390625 41.71875 45.5625 \r\nQ 45.3125 48.734375 45.3125 54.390625 \r\nQ 45.3125 60.0625 41.71875 63.234375 \r\nQ 38.140625 66.40625 31.78125 66.40625 \r\nQ 25.390625 66.40625 21.84375 63.234375 \r\nQ 18.3125 60.0625 18.3125 54.390625 \r\nz\r\n\" id=\"DejaVuSans-56\"/>\r\n       </defs>\r\n       <use xlink:href=\"#DejaVuSans-56\"/>\r\n       <use x=\"63.623047\" xlink:href=\"#DejaVuSans-48\"/>\r\n      </g>\r\n     </g>\r\n    </g>\r\n    <g id=\"xtick_6\">\r\n     <g id=\"line2d_6\">\r\n      <g>\r\n       <use style=\"stroke:#000000;stroke-width:0.8;\" x=\"364.427131\" xlink:href=\"#m03f33aef1d\" y=\"235.238437\"/>\r\n      </g>\r\n     </g>\r\n     <g id=\"text_6\">\r\n      <!-- 100 -->\r\n      <g transform=\"translate(354.883381 249.836875)scale(0.1 -0.1)\">\r\n       <defs>\r\n        <path d=\"M 12.40625 8.296875 \r\nL 28.515625 8.296875 \r\nL 28.515625 63.921875 \r\nL 10.984375 60.40625 \r\nL 10.984375 69.390625 \r\nL 28.421875 72.90625 \r\nL 38.28125 72.90625 \r\nL 38.28125 8.296875 \r\nL 54.390625 8.296875 \r\nL 54.390625 0 \r\nL 12.40625 0 \r\nz\r\n\" id=\"DejaVuSans-49\"/>\r\n       </defs>\r\n       <use xlink:href=\"#DejaVuSans-49\"/>\r\n       <use x=\"63.623047\" xlink:href=\"#DejaVuSans-48\"/>\r\n       <use x=\"127.246094\" xlink:href=\"#DejaVuSans-48\"/>\r\n      </g>\r\n     </g>\r\n    </g>\r\n   </g>\r\n   <g id=\"matplotlib.axis_2\">\r\n    <g id=\"ytick_1\">\r\n     <g id=\"line2d_7\">\r\n      <defs>\r\n       <path d=\"M 0 0 \r\nL -3.5 0 \r\n\" id=\"m85f6d84c99\" style=\"stroke:#000000;stroke-width:0.8;\"/>\r\n      </defs>\r\n      <g>\r\n       <use style=\"stroke:#000000;stroke-width:0.8;\" x=\"44.845313\" xlink:href=\"#m85f6d84c99\" y=\"227.327608\"/>\r\n      </g>\r\n     </g>\r\n     <g id=\"text_7\">\r\n      <!-- −0.50 -->\r\n      <g transform=\"translate(7.2 231.126827)scale(0.1 -0.1)\">\r\n       <defs>\r\n        <path d=\"M 10.59375 35.5 \r\nL 73.1875 35.5 \r\nL 73.1875 27.203125 \r\nL 10.59375 27.203125 \r\nz\r\n\" id=\"DejaVuSans-8722\"/>\r\n        <path d=\"M 10.6875 12.40625 \r\nL 21 12.40625 \r\nL 21 0 \r\nL 10.6875 0 \r\nz\r\n\" id=\"DejaVuSans-46\"/>\r\n        <path d=\"M 10.796875 72.90625 \r\nL 49.515625 72.90625 \r\nL 49.515625 64.59375 \r\nL 19.828125 64.59375 \r\nL 19.828125 46.734375 \r\nQ 21.96875 47.46875 24.109375 47.828125 \r\nQ 26.265625 48.1875 28.421875 48.1875 \r\nQ 40.625 48.1875 47.75 41.5 \r\nQ 54.890625 34.8125 54.890625 23.390625 \r\nQ 54.890625 11.625 47.5625 5.09375 \r\nQ 40.234375 -1.421875 26.90625 -1.421875 \r\nQ 22.3125 -1.421875 17.546875 -0.640625 \r\nQ 12.796875 0.140625 7.71875 1.703125 \r\nL 7.71875 11.625 \r\nQ 12.109375 9.234375 16.796875 8.0625 \r\nQ 21.484375 6.890625 26.703125 6.890625 \r\nQ 35.15625 6.890625 40.078125 11.328125 \r\nQ 45.015625 15.765625 45.015625 23.390625 \r\nQ 45.015625 31 40.078125 35.4375 \r\nQ 35.15625 39.890625 26.703125 39.890625 \r\nQ 22.75 39.890625 18.8125 39.015625 \r\nQ 14.890625 38.140625 10.796875 36.28125 \r\nz\r\n\" id=\"DejaVuSans-53\"/>\r\n       </defs>\r\n       <use xlink:href=\"#DejaVuSans-8722\"/>\r\n       <use x=\"83.789062\" xlink:href=\"#DejaVuSans-48\"/>\r\n       <use x=\"147.412109\" xlink:href=\"#DejaVuSans-46\"/>\r\n       <use x=\"179.199219\" xlink:href=\"#DejaVuSans-53\"/>\r\n       <use x=\"242.822266\" xlink:href=\"#DejaVuSans-48\"/>\r\n      </g>\r\n     </g>\r\n    </g>\r\n    <g id=\"ytick_2\">\r\n     <g id=\"line2d_8\">\r\n      <g>\r\n       <use style=\"stroke:#000000;stroke-width:0.8;\" x=\"44.845313\" xlink:href=\"#m85f6d84c99\" y=\"202.147041\"/>\r\n      </g>\r\n     </g>\r\n     <g id=\"text_8\">\r\n      <!-- −0.25 -->\r\n      <g transform=\"translate(7.2 205.94626)scale(0.1 -0.1)\">\r\n       <use xlink:href=\"#DejaVuSans-8722\"/>\r\n       <use x=\"83.789062\" xlink:href=\"#DejaVuSans-48\"/>\r\n       <use x=\"147.412109\" xlink:href=\"#DejaVuSans-46\"/>\r\n       <use x=\"179.199219\" xlink:href=\"#DejaVuSans-50\"/>\r\n       <use x=\"242.822266\" xlink:href=\"#DejaVuSans-53\"/>\r\n      </g>\r\n     </g>\r\n    </g>\r\n    <g id=\"ytick_3\">\r\n     <g id=\"line2d_9\">\r\n      <g>\r\n       <use style=\"stroke:#000000;stroke-width:0.8;\" x=\"44.845313\" xlink:href=\"#m85f6d84c99\" y=\"176.966474\"/>\r\n      </g>\r\n     </g>\r\n     <g id=\"text_9\">\r\n      <!-- 0.00 -->\r\n      <g transform=\"translate(15.579688 180.765693)scale(0.1 -0.1)\">\r\n       <use xlink:href=\"#DejaVuSans-48\"/>\r\n       <use x=\"63.623047\" xlink:href=\"#DejaVuSans-46\"/>\r\n       <use x=\"95.410156\" xlink:href=\"#DejaVuSans-48\"/>\r\n       <use x=\"159.033203\" xlink:href=\"#DejaVuSans-48\"/>\r\n      </g>\r\n     </g>\r\n    </g>\r\n    <g id=\"ytick_4\">\r\n     <g id=\"line2d_10\">\r\n      <g>\r\n       <use style=\"stroke:#000000;stroke-width:0.8;\" x=\"44.845313\" xlink:href=\"#m85f6d84c99\" y=\"151.785907\"/>\r\n      </g>\r\n     </g>\r\n     <g id=\"text_10\">\r\n      <!-- 0.25 -->\r\n      <g transform=\"translate(15.579688 155.585126)scale(0.1 -0.1)\">\r\n       <use xlink:href=\"#DejaVuSans-48\"/>\r\n       <use x=\"63.623047\" xlink:href=\"#DejaVuSans-46\"/>\r\n       <use x=\"95.410156\" xlink:href=\"#DejaVuSans-50\"/>\r\n       <use x=\"159.033203\" xlink:href=\"#DejaVuSans-53\"/>\r\n      </g>\r\n     </g>\r\n    </g>\r\n    <g id=\"ytick_5\">\r\n     <g id=\"line2d_11\">\r\n      <g>\r\n       <use style=\"stroke:#000000;stroke-width:0.8;\" x=\"44.845313\" xlink:href=\"#m85f6d84c99\" y=\"126.605341\"/>\r\n      </g>\r\n     </g>\r\n     <g id=\"text_11\">\r\n      <!-- 0.50 -->\r\n      <g transform=\"translate(15.579688 130.404559)scale(0.1 -0.1)\">\r\n       <use xlink:href=\"#DejaVuSans-48\"/>\r\n       <use x=\"63.623047\" xlink:href=\"#DejaVuSans-46\"/>\r\n       <use x=\"95.410156\" xlink:href=\"#DejaVuSans-53\"/>\r\n       <use x=\"159.033203\" xlink:href=\"#DejaVuSans-48\"/>\r\n      </g>\r\n     </g>\r\n    </g>\r\n    <g id=\"ytick_6\">\r\n     <g id=\"line2d_12\">\r\n      <g>\r\n       <use style=\"stroke:#000000;stroke-width:0.8;\" x=\"44.845313\" xlink:href=\"#m85f6d84c99\" y=\"101.424774\"/>\r\n      </g>\r\n     </g>\r\n     <g id=\"text_12\">\r\n      <!-- 0.75 -->\r\n      <g transform=\"translate(15.579688 105.223993)scale(0.1 -0.1)\">\r\n       <defs>\r\n        <path d=\"M 8.203125 72.90625 \r\nL 55.078125 72.90625 \r\nL 55.078125 68.703125 \r\nL 28.609375 0 \r\nL 18.3125 0 \r\nL 43.21875 64.59375 \r\nL 8.203125 64.59375 \r\nz\r\n\" id=\"DejaVuSans-55\"/>\r\n       </defs>\r\n       <use xlink:href=\"#DejaVuSans-48\"/>\r\n       <use x=\"63.623047\" xlink:href=\"#DejaVuSans-46\"/>\r\n       <use x=\"95.410156\" xlink:href=\"#DejaVuSans-55\"/>\r\n       <use x=\"159.033203\" xlink:href=\"#DejaVuSans-53\"/>\r\n      </g>\r\n     </g>\r\n    </g>\r\n    <g id=\"ytick_7\">\r\n     <g id=\"line2d_13\">\r\n      <g>\r\n       <use style=\"stroke:#000000;stroke-width:0.8;\" x=\"44.845313\" xlink:href=\"#m85f6d84c99\" y=\"76.244207\"/>\r\n      </g>\r\n     </g>\r\n     <g id=\"text_13\">\r\n      <!-- 1.00 -->\r\n      <g transform=\"translate(15.579688 80.043426)scale(0.1 -0.1)\">\r\n       <use xlink:href=\"#DejaVuSans-49\"/>\r\n       <use x=\"63.623047\" xlink:href=\"#DejaVuSans-46\"/>\r\n       <use x=\"95.410156\" xlink:href=\"#DejaVuSans-48\"/>\r\n       <use x=\"159.033203\" xlink:href=\"#DejaVuSans-48\"/>\r\n      </g>\r\n     </g>\r\n    </g>\r\n    <g id=\"ytick_8\">\r\n     <g id=\"line2d_14\">\r\n      <g>\r\n       <use style=\"stroke:#000000;stroke-width:0.8;\" x=\"44.845313\" xlink:href=\"#m85f6d84c99\" y=\"51.06364\"/>\r\n      </g>\r\n     </g>\r\n     <g id=\"text_14\">\r\n      <!-- 1.25 -->\r\n      <g transform=\"translate(15.579688 54.862859)scale(0.1 -0.1)\">\r\n       <use xlink:href=\"#DejaVuSans-49\"/>\r\n       <use x=\"63.623047\" xlink:href=\"#DejaVuSans-46\"/>\r\n       <use x=\"95.410156\" xlink:href=\"#DejaVuSans-50\"/>\r\n       <use x=\"159.033203\" xlink:href=\"#DejaVuSans-53\"/>\r\n      </g>\r\n     </g>\r\n    </g>\r\n    <g id=\"ytick_9\">\r\n     <g id=\"line2d_15\">\r\n      <g>\r\n       <use style=\"stroke:#000000;stroke-width:0.8;\" x=\"44.845313\" xlink:href=\"#m85f6d84c99\" y=\"25.883073\"/>\r\n      </g>\r\n     </g>\r\n     <g id=\"text_15\">\r\n      <!-- 1.50 -->\r\n      <g transform=\"translate(15.579688 29.682292)scale(0.1 -0.1)\">\r\n       <use xlink:href=\"#DejaVuSans-49\"/>\r\n       <use x=\"63.623047\" xlink:href=\"#DejaVuSans-46\"/>\r\n       <use x=\"95.410156\" xlink:href=\"#DejaVuSans-53\"/>\r\n       <use x=\"159.033203\" xlink:href=\"#DejaVuSans-48\"/>\r\n      </g>\r\n     </g>\r\n    </g>\r\n    <g id=\"text_16\">\r\n     <!-- 1e7 -->\r\n     <g transform=\"translate(44.845313 14.798437)scale(0.1 -0.1)\">\r\n      <defs>\r\n       <path d=\"M 56.203125 29.59375 \r\nL 56.203125 25.203125 \r\nL 14.890625 25.203125 \r\nQ 15.484375 15.921875 20.484375 11.0625 \r\nQ 25.484375 6.203125 34.421875 6.203125 \r\nQ 39.59375 6.203125 44.453125 7.46875 \r\nQ 49.3125 8.734375 54.109375 11.28125 \r\nL 54.109375 2.78125 \r\nQ 49.265625 0.734375 44.1875 -0.34375 \r\nQ 39.109375 -1.421875 33.890625 -1.421875 \r\nQ 20.796875 -1.421875 13.15625 6.1875 \r\nQ 5.515625 13.8125 5.515625 26.8125 \r\nQ 5.515625 40.234375 12.765625 48.109375 \r\nQ 20.015625 56 32.328125 56 \r\nQ 43.359375 56 49.78125 48.890625 \r\nQ 56.203125 41.796875 56.203125 29.59375 \r\nz\r\nM 47.21875 32.234375 \r\nQ 47.125 39.59375 43.09375 43.984375 \r\nQ 39.0625 48.390625 32.421875 48.390625 \r\nQ 24.90625 48.390625 20.390625 44.140625 \r\nQ 15.875 39.890625 15.1875 32.171875 \r\nz\r\n\" id=\"DejaVuSans-101\"/>\r\n      </defs>\r\n      <use xlink:href=\"#DejaVuSans-49\"/>\r\n      <use x=\"63.623047\" xlink:href=\"#DejaVuSans-101\"/>\r\n      <use x=\"125.146484\" xlink:href=\"#DejaVuSans-55\"/>\r\n     </g>\r\n    </g>\r\n   </g>\r\n   <g id=\"line2d_16\">\r\n    <path clip-path=\"url(#p36571e3cd6)\" d=\"M 60.063494 27.682074 \r\nL 63.107131 27.716422 \r\nL 66.150767 27.75077 \r\nL 69.194403 27.785119 \r\nL 72.23804 27.819467 \r\nL 75.281676 27.853815 \r\nL 78.325313 27.888164 \r\nL 81.368949 27.922512 \r\nL 84.412585 27.95686 \r\nL 87.456222 27.991209 \r\nL 90.499858 28.025557 \r\nL 93.543494 28.059905 \r\nL 96.587131 28.094254 \r\nL 99.630767 28.128602 \r\nL 102.674403 28.16295 \r\nL 105.71804 28.197298 \r\nL 108.761676 28.231647 \r\nL 111.805313 28.265995 \r\nL 114.848949 28.300343 \r\nL 117.892585 28.334692 \r\nL 120.936222 28.36904 \r\nL 123.979858 28.403388 \r\nL 127.023494 28.437737 \r\nL 130.067131 28.472085 \r\nL 133.110767 28.506433 \r\nL 136.154403 28.540782 \r\nL 139.19804 28.57513 \r\nL 142.241676 28.609478 \r\nL 145.285313 28.643826 \r\nL 148.328949 28.678175 \r\nL 151.372585 28.712523 \r\nL 154.416222 28.746871 \r\nL 157.459858 28.78122 \r\nL 160.503494 28.815568 \r\nL 163.547131 28.849916 \r\nL 166.590767 28.884265 \r\nL 169.634403 28.918613 \r\nL 172.67804 28.952961 \r\nL 175.721676 28.98731 \r\nL 178.765313 29.021658 \r\nL 181.808949 29.056006 \r\nL 184.852585 29.090354 \r\nL 187.896222 29.124703 \r\nL 190.939858 29.159051 \r\nL 193.983494 29.193399 \r\nL 197.027131 29.227748 \r\nL 200.070767 29.262096 \r\nL 203.114403 29.296444 \r\nL 206.15804 29.330793 \r\nL 209.201676 29.365141 \r\nL 212.245313 29.399489 \r\nL 215.288949 29.433838 \r\nL 218.332585 29.468186 \r\nL 221.376222 29.502534 \r\nL 224.419858 29.536882 \r\nL 227.463494 29.571231 \r\nL 230.507131 29.605579 \r\nL 233.550767 29.639927 \r\nL 236.594403 29.674276 \r\nL 239.63804 29.708624 \r\nL 242.681676 29.742972 \r\nL 245.725313 29.777321 \r\nL 248.768949 29.811669 \r\nL 251.812585 29.846017 \r\nL 254.856222 29.880366 \r\nL 257.899858 29.914714 \r\nL 260.943494 29.949062 \r\nL 263.987131 29.98341 \r\nL 267.030767 30.017759 \r\nL 270.074403 30.052107 \r\nL 273.11804 30.086455 \r\nL 276.161676 30.120804 \r\nL 279.205312 30.155152 \r\nL 282.248949 30.1895 \r\nL 285.292585 30.223849 \r\nL 288.336222 30.258197 \r\nL 291.379858 30.292545 \r\nL 294.423494 30.326894 \r\nL 297.467131 30.361242 \r\nL 300.510767 30.39559 \r\nL 303.554403 30.429938 \r\nL 306.59804 30.464287 \r\nL 309.641676 30.498635 \r\nL 312.685313 30.532983 \r\nL 315.728949 30.567332 \r\nL 318.772585 30.60168 \r\nL 321.816222 30.636028 \r\nL 324.859858 30.670377 \r\nL 327.903494 30.704725 \r\nL 330.947131 30.739073 \r\nL 333.990767 30.773422 \r\nL 337.034403 30.80777 \r\nL 340.07804 30.842118 \r\nL 343.121676 30.876466 \r\nL 346.165313 30.910815 \r\nL 349.208949 30.945163 \r\nL 352.252585 30.979511 \r\nL 355.296222 31.01386 \r\nL 358.339858 31.048208 \r\nL 361.383494 31.082556 \r\nL 364.427131 31.116905 \r\n\" style=\"fill:none;stroke:#1f77b4;stroke-linecap:square;stroke-width:1.5;\"/>\r\n   </g>\r\n   <g id=\"line2d_17\">\r\n    <path clip-path=\"url(#p36571e3cd6)\" d=\"M 60.063494 85.420509 \r\nL 63.107131 85.385567 \r\nL 66.150767 85.350624 \r\nL 69.194403 85.315682 \r\nL 72.23804 85.280739 \r\nL 75.281676 85.245796 \r\nL 78.325313 85.210854 \r\nL 81.368949 85.175911 \r\nL 84.412585 85.140969 \r\nL 87.456222 85.106026 \r\nL 90.499858 85.071084 \r\nL 93.543494 85.036141 \r\nL 96.587131 85.001198 \r\nL 99.630767 84.966256 \r\nL 102.674403 84.931313 \r\nL 105.71804 84.896371 \r\nL 108.761676 84.861428 \r\nL 111.805313 84.826486 \r\nL 114.848949 84.791543 \r\nL 117.892585 84.7566 \r\nL 120.936222 84.721658 \r\nL 123.979858 84.686715 \r\nL 127.023494 84.651773 \r\nL 130.067131 84.61683 \r\nL 133.110767 84.581888 \r\nL 136.154403 84.546945 \r\nL 139.19804 84.512002 \r\nL 142.241676 84.47706 \r\nL 145.285313 84.442117 \r\nL 148.328949 84.407175 \r\nL 151.372585 84.372232 \r\nL 154.416222 84.33729 \r\nL 157.459858 84.302347 \r\nL 160.503494 84.267404 \r\nL 163.547131 84.232462 \r\nL 166.590767 84.197519 \r\nL 169.634403 84.162577 \r\nL 172.67804 84.127634 \r\nL 175.721676 84.092692 \r\nL 178.765313 84.057749 \r\nL 181.808949 84.022806 \r\nL 184.852585 83.987864 \r\nL 187.896222 83.952921 \r\nL 190.939858 83.917979 \r\nL 193.983494 83.883036 \r\nL 197.027131 83.848094 \r\nL 200.070767 83.813151 \r\nL 203.114403 83.778208 \r\nL 206.15804 83.743266 \r\nL 209.201676 83.708323 \r\nL 212.245313 83.673381 \r\nL 215.288949 83.638438 \r\nL 218.332585 83.603496 \r\nL 221.376222 83.568553 \r\nL 224.419858 83.53361 \r\nL 227.463494 83.498668 \r\nL 230.507131 83.463725 \r\nL 233.550767 83.428783 \r\nL 236.594403 83.39384 \r\nL 239.63804 83.358898 \r\nL 242.681676 83.323955 \r\nL 245.725313 83.289013 \r\nL 248.768949 83.25407 \r\nL 251.812585 83.219127 \r\nL 254.856222 83.184185 \r\nL 257.899858 83.149242 \r\nL 260.943494 83.1143 \r\nL 263.987131 83.079357 \r\nL 267.030767 83.044415 \r\nL 270.074403 83.009472 \r\nL 273.11804 82.974529 \r\nL 276.161676 82.939587 \r\nL 279.205312 82.904644 \r\nL 282.248949 82.869702 \r\nL 285.292585 82.834759 \r\nL 288.336222 82.799817 \r\nL 291.379858 82.764874 \r\nL 294.423494 82.729931 \r\nL 297.467131 82.694989 \r\nL 300.510767 82.660046 \r\nL 303.554403 82.625104 \r\nL 306.59804 82.590161 \r\nL 309.641676 82.555219 \r\nL 312.685313 82.520276 \r\nL 315.728949 82.485333 \r\nL 318.772585 82.450391 \r\nL 321.816222 82.415448 \r\nL 324.859858 82.380506 \r\nL 327.903494 82.345563 \r\nL 330.947131 82.310621 \r\nL 333.990767 82.275678 \r\nL 337.034403 82.240735 \r\nL 340.07804 82.205793 \r\nL 343.121676 82.17085 \r\nL 346.165313 82.135908 \r\nL 349.208949 82.100965 \r\nL 352.252585 82.066023 \r\nL 355.296222 82.03108 \r\nL 358.339858 81.996137 \r\nL 361.383494 81.961195 \r\nL 364.427131 81.926252 \r\n\" style=\"fill:none;stroke:#ff7f0e;stroke-linecap:square;stroke-width:1.5;\"/>\r\n   </g>\r\n   <g id=\"line2d_18\">\r\n    <path clip-path=\"url(#p36571e3cd6)\" d=\"M 60.063494 168.580258 \r\nL 63.107131 169.148003 \r\nL 66.150767 169.715749 \r\nL 69.194403 170.283494 \r\nL 72.23804 170.851239 \r\nL 75.281676 171.418985 \r\nL 78.325313 171.98673 \r\nL 81.368949 172.554476 \r\nL 84.412585 173.122221 \r\nL 87.456222 173.689967 \r\nL 90.499858 174.257712 \r\nL 93.543494 174.825458 \r\nL 96.587131 175.393203 \r\nL 99.630767 175.960948 \r\nL 102.674403 176.528694 \r\nL 105.71804 177.096439 \r\nL 108.761676 177.664185 \r\nL 111.805313 178.23193 \r\nL 114.848949 178.799676 \r\nL 117.892585 179.367421 \r\nL 120.936222 179.935166 \r\nL 123.979858 180.502912 \r\nL 127.023494 181.070657 \r\nL 130.067131 181.638403 \r\nL 133.110767 182.206148 \r\nL 136.154403 182.773894 \r\nL 139.19804 183.341639 \r\nL 142.241676 183.909384 \r\nL 145.285313 184.47713 \r\nL 148.328949 185.044875 \r\nL 151.372585 185.612621 \r\nL 154.416222 186.180366 \r\nL 157.459858 186.748112 \r\nL 160.503494 187.315857 \r\nL 163.547131 187.883602 \r\nL 166.590767 188.451348 \r\nL 169.634403 189.019093 \r\nL 172.67804 189.586839 \r\nL 175.721676 190.154584 \r\nL 178.765313 190.72233 \r\nL 181.808949 191.290075 \r\nL 184.852585 191.857821 \r\nL 187.896222 192.425566 \r\nL 190.939858 192.993311 \r\nL 193.983494 193.561057 \r\nL 197.027131 194.128802 \r\nL 200.070767 194.696548 \r\nL 203.114403 195.264293 \r\nL 206.15804 195.832039 \r\nL 209.201676 196.399784 \r\nL 212.245313 196.967529 \r\nL 215.288949 197.535275 \r\nL 218.332585 198.10302 \r\nL 221.376222 198.670766 \r\nL 224.419858 199.238511 \r\nL 227.463494 199.806257 \r\nL 230.507131 200.374002 \r\nL 233.550767 200.941747 \r\nL 236.594403 201.509493 \r\nL 239.63804 202.077238 \r\nL 242.681676 202.644984 \r\nL 245.725313 203.212729 \r\nL 248.768949 203.780475 \r\nL 251.812585 204.34822 \r\nL 254.856222 204.915966 \r\nL 257.899858 205.483711 \r\nL 260.943494 206.051456 \r\nL 263.987131 206.619202 \r\nL 267.030767 207.186947 \r\nL 270.074403 207.754693 \r\nL 273.11804 208.322438 \r\nL 276.161676 208.890184 \r\nL 279.205312 209.457929 \r\nL 282.248949 210.025674 \r\nL 285.292585 210.59342 \r\nL 288.336222 211.161165 \r\nL 291.379858 211.728911 \r\nL 294.423494 212.296656 \r\nL 297.467131 212.864402 \r\nL 300.510767 213.432147 \r\nL 303.554403 213.999892 \r\nL 306.59804 214.567638 \r\nL 309.641676 215.135383 \r\nL 312.685313 215.703129 \r\nL 315.728949 216.270874 \r\nL 318.772585 216.83862 \r\nL 321.816222 217.406365 \r\nL 324.859858 217.97411 \r\nL 327.903494 218.541856 \r\nL 330.947131 219.109601 \r\nL 333.990767 219.677347 \r\nL 337.034403 220.245092 \r\nL 340.07804 220.812838 \r\nL 343.121676 221.380583 \r\nL 346.165313 221.948329 \r\nL 349.208949 222.516074 \r\nL 352.252585 223.083819 \r\nL 355.296222 223.651565 \r\nL 358.339858 224.21931 \r\nL 361.383494 224.787056 \r\nL 364.427131 225.354801 \r\n\" style=\"fill:none;stroke:#2ca02c;stroke-linecap:square;stroke-width:1.5;\"/>\r\n   </g>\r\n   <g id=\"line2d_19\">\r\n    <path clip-path=\"url(#p36571e3cd6)\" d=\"M 60.063494 176.95611 \r\nL 63.107131 176.95611 \r\nL 66.150767 176.95611 \r\nL 69.194403 176.95611 \r\nL 72.23804 176.95611 \r\nL 75.281676 176.95611 \r\nL 78.325313 176.95611 \r\nL 81.368949 176.95611 \r\nL 84.412585 176.95611 \r\nL 87.456222 176.95611 \r\nL 90.499858 176.95611 \r\nL 93.543494 176.95611 \r\nL 96.587131 176.95611 \r\nL 99.630767 176.95611 \r\nL 102.674403 176.95611 \r\nL 105.71804 176.95611 \r\nL 108.761676 176.95611 \r\nL 111.805313 176.95611 \r\nL 114.848949 176.95611 \r\nL 117.892585 176.95611 \r\nL 120.936222 176.95611 \r\nL 123.979858 176.95611 \r\nL 127.023494 176.95611 \r\nL 130.067131 176.95611 \r\nL 133.110767 176.95611 \r\nL 136.154403 176.95611 \r\nL 139.19804 176.95611 \r\nL 142.241676 176.95611 \r\nL 145.285313 176.95611 \r\nL 148.328949 176.95611 \r\nL 151.372585 176.95611 \r\nL 154.416222 176.95611 \r\nL 157.459858 176.95611 \r\nL 160.503494 176.95611 \r\nL 163.547131 176.95611 \r\nL 166.590767 176.95611 \r\nL 169.634403 176.95611 \r\nL 172.67804 176.95611 \r\nL 175.721676 176.95611 \r\nL 178.765313 176.95611 \r\nL 181.808949 176.95611 \r\nL 184.852585 176.95611 \r\nL 187.896222 176.95611 \r\nL 190.939858 176.95611 \r\nL 193.983494 176.95611 \r\nL 197.027131 176.95611 \r\nL 200.070767 176.95611 \r\nL 203.114403 176.95611 \r\nL 206.15804 176.95611 \r\nL 209.201676 176.95611 \r\nL 212.245313 176.95611 \r\nL 215.288949 176.95611 \r\nL 218.332585 176.95611 \r\nL 221.376222 176.95611 \r\nL 224.419858 176.95611 \r\nL 227.463494 176.95611 \r\nL 230.507131 176.95611 \r\nL 233.550767 176.95611 \r\nL 236.594403 176.95611 \r\nL 239.63804 176.95611 \r\nL 242.681676 176.95611 \r\nL 245.725313 176.95611 \r\nL 248.768949 176.95611 \r\nL 251.812585 176.95611 \r\nL 254.856222 176.95611 \r\nL 257.899858 176.95611 \r\nL 260.943494 176.95611 \r\nL 263.987131 176.95611 \r\nL 267.030767 176.95611 \r\nL 270.074403 176.95611 \r\nL 273.11804 176.95611 \r\nL 276.161676 176.95611 \r\nL 279.205312 176.95611 \r\nL 282.248949 176.95611 \r\nL 285.292585 176.95611 \r\nL 288.336222 176.95611 \r\nL 291.379858 176.95611 \r\nL 294.423494 176.95611 \r\nL 297.467131 176.95611 \r\nL 300.510767 176.95611 \r\nL 303.554403 176.95611 \r\nL 306.59804 176.95611 \r\nL 309.641676 176.95611 \r\nL 312.685313 176.95611 \r\nL 315.728949 176.95611 \r\nL 318.772585 176.95611 \r\nL 321.816222 176.95611 \r\nL 324.859858 176.95611 \r\nL 327.903494 176.95611 \r\nL 330.947131 176.95611 \r\nL 333.990767 176.95611 \r\nL 337.034403 176.95611 \r\nL 340.07804 176.95611 \r\nL 343.121676 176.95611 \r\nL 346.165313 176.95611 \r\nL 349.208949 176.95611 \r\nL 352.252585 176.95611 \r\nL 355.296222 176.95611 \r\nL 358.339858 176.95611 \r\nL 361.383494 176.95611 \r\nL 364.427131 176.95611 \r\n\" style=\"fill:none;stroke:#d62728;stroke-linecap:square;stroke-width:1.5;\"/>\r\n   </g>\r\n   <g id=\"line2d_20\">\r\n    <path clip-path=\"url(#p36571e3cd6)\" d=\"M 60.063494 137.255725 \r\nL 63.107131 137.265368 \r\nL 66.150767 137.275012 \r\nL 69.194403 137.284656 \r\nL 72.23804 137.2943 \r\nL 75.281676 137.303944 \r\nL 78.325313 137.313587 \r\nL 81.368949 137.323231 \r\nL 84.412585 137.332875 \r\nL 87.456222 137.342519 \r\nL 90.499858 137.352163 \r\nL 93.543494 137.361806 \r\nL 96.587131 137.37145 \r\nL 99.630767 137.381094 \r\nL 102.674403 137.390738 \r\nL 105.71804 137.400382 \r\nL 108.761676 137.410025 \r\nL 111.805313 137.419669 \r\nL 114.848949 137.429313 \r\nL 117.892585 137.438957 \r\nL 120.936222 137.4486 \r\nL 123.979858 137.458244 \r\nL 127.023494 137.467888 \r\nL 130.067131 137.477532 \r\nL 133.110767 137.487176 \r\nL 136.154403 137.496819 \r\nL 139.19804 137.506463 \r\nL 142.241676 137.516107 \r\nL 145.285313 137.525751 \r\nL 148.328949 137.535395 \r\nL 151.372585 137.545038 \r\nL 154.416222 137.554682 \r\nL 157.459858 137.564326 \r\nL 160.503494 137.57397 \r\nL 163.547131 137.583614 \r\nL 166.590767 137.593257 \r\nL 169.634403 137.602901 \r\nL 172.67804 137.612545 \r\nL 175.721676 137.622189 \r\nL 178.765313 137.631832 \r\nL 181.808949 137.641476 \r\nL 184.852585 137.65112 \r\nL 187.896222 137.660764 \r\nL 190.939858 137.670408 \r\nL 193.983494 137.680051 \r\nL 197.027131 137.689695 \r\nL 200.070767 137.699339 \r\nL 203.114403 137.708983 \r\nL 206.15804 137.718627 \r\nL 209.201676 137.72827 \r\nL 212.245313 137.737914 \r\nL 215.288949 137.747558 \r\nL 218.332585 137.757202 \r\nL 221.376222 137.766845 \r\nL 224.419858 137.776489 \r\nL 227.463494 137.786133 \r\nL 230.507131 137.795777 \r\nL 233.550767 137.805421 \r\nL 236.594403 137.815064 \r\nL 239.63804 137.824708 \r\nL 242.681676 137.834352 \r\nL 245.725313 137.843996 \r\nL 248.768949 137.85364 \r\nL 251.812585 137.863283 \r\nL 254.856222 137.872927 \r\nL 257.899858 137.882571 \r\nL 260.943494 137.892215 \r\nL 263.987131 137.901859 \r\nL 267.030767 137.911502 \r\nL 270.074403 137.921146 \r\nL 273.11804 137.93079 \r\nL 276.161676 137.940434 \r\nL 279.205312 137.950077 \r\nL 282.248949 137.959721 \r\nL 285.292585 137.969365 \r\nL 288.336222 137.979009 \r\nL 291.379858 137.988653 \r\nL 294.423494 137.998296 \r\nL 297.467131 138.00794 \r\nL 300.510767 138.017584 \r\nL 303.554403 138.027228 \r\nL 306.59804 138.036872 \r\nL 309.641676 138.046515 \r\nL 312.685313 138.056159 \r\nL 315.728949 138.065803 \r\nL 318.772585 138.075447 \r\nL 321.816222 138.085091 \r\nL 324.859858 138.094734 \r\nL 327.903494 138.104378 \r\nL 330.947131 138.114022 \r\nL 333.990767 138.123666 \r\nL 337.034403 138.133309 \r\nL 340.07804 138.142953 \r\nL 343.121676 138.152597 \r\nL 346.165313 138.162241 \r\nL 349.208949 138.171885 \r\nL 352.252585 138.181528 \r\nL 355.296222 138.191172 \r\nL 358.339858 138.200816 \r\nL 361.383494 138.21046 \r\nL 364.427131 138.220104 \r\n\" style=\"fill:none;stroke:#9467bd;stroke-linecap:square;stroke-width:1.5;\"/>\r\n   </g>\r\n   <g id=\"patch_3\">\r\n    <path d=\"M 44.845313 235.238437 \r\nL 44.845313 17.798438 \r\n\" style=\"fill:none;stroke:#000000;stroke-linecap:square;stroke-linejoin:miter;stroke-width:0.8;\"/>\r\n   </g>\r\n   <g id=\"patch_4\">\r\n    <path d=\"M 379.645313 235.238437 \r\nL 379.645313 17.798438 \r\n\" style=\"fill:none;stroke:#000000;stroke-linecap:square;stroke-linejoin:miter;stroke-width:0.8;\"/>\r\n   </g>\r\n   <g id=\"patch_5\">\r\n    <path d=\"M 44.845313 235.238437 \r\nL 379.645313 235.238437 \r\n\" style=\"fill:none;stroke:#000000;stroke-linecap:square;stroke-linejoin:miter;stroke-width:0.8;\"/>\r\n   </g>\r\n   <g id=\"patch_6\">\r\n    <path d=\"M 44.845313 17.798437 \r\nL 379.645313 17.798437 \r\n\" style=\"fill:none;stroke:#000000;stroke-linecap:square;stroke-linejoin:miter;stroke-width:0.8;\"/>\r\n   </g>\r\n   <g id=\"legend_1\">\r\n    <g id=\"patch_7\">\r\n     <path d=\"M 225.959375 164.71375 \r\nL 372.645313 164.71375 \r\nQ 374.645313 164.71375 374.645313 162.71375 \r\nL 374.645313 90.323125 \r\nQ 374.645313 88.323125 372.645313 88.323125 \r\nL 225.959375 88.323125 \r\nQ 223.959375 88.323125 223.959375 90.323125 \r\nL 223.959375 162.71375 \r\nQ 223.959375 164.71375 225.959375 164.71375 \r\nz\r\n\" style=\"fill:#ffffff;opacity:0.8;stroke:#cccccc;stroke-linejoin:miter;\"/>\r\n    </g>\r\n    <g id=\"line2d_21\">\r\n     <path d=\"M 227.959375 96.421562 \r\nL 247.959375 96.421562 \r\n\" style=\"fill:none;stroke:#1f77b4;stroke-linecap:square;stroke-width:1.5;\"/>\r\n    </g>\r\n    <g id=\"line2d_22\"/>\r\n    <g id=\"text_17\">\r\n     <!-- Soil Active Carbon -->\r\n     <g transform=\"translate(255.959375 99.921562)scale(0.1 -0.1)\">\r\n      <defs>\r\n       <path d=\"M 53.515625 70.515625 \r\nL 53.515625 60.890625 \r\nQ 47.90625 63.578125 42.921875 64.890625 \r\nQ 37.9375 66.21875 33.296875 66.21875 \r\nQ 25.25 66.21875 20.875 63.09375 \r\nQ 16.5 59.96875 16.5 54.203125 \r\nQ 16.5 49.359375 19.40625 46.890625 \r\nQ 22.3125 44.4375 30.421875 42.921875 \r\nL 36.375 41.703125 \r\nQ 47.40625 39.59375 52.65625 34.296875 \r\nQ 57.90625 29 57.90625 20.125 \r\nQ 57.90625 9.515625 50.796875 4.046875 \r\nQ 43.703125 -1.421875 29.984375 -1.421875 \r\nQ 24.8125 -1.421875 18.96875 -0.25 \r\nQ 13.140625 0.921875 6.890625 3.21875 \r\nL 6.890625 13.375 \r\nQ 12.890625 10.015625 18.65625 8.296875 \r\nQ 24.421875 6.59375 29.984375 6.59375 \r\nQ 38.421875 6.59375 43.015625 9.90625 \r\nQ 47.609375 13.234375 47.609375 19.390625 \r\nQ 47.609375 24.75 44.3125 27.78125 \r\nQ 41.015625 30.8125 33.5 32.328125 \r\nL 27.484375 33.5 \r\nQ 16.453125 35.6875 11.515625 40.375 \r\nQ 6.59375 45.0625 6.59375 53.421875 \r\nQ 6.59375 63.09375 13.40625 68.65625 \r\nQ 20.21875 74.21875 32.171875 74.21875 \r\nQ 37.3125 74.21875 42.625 73.28125 \r\nQ 47.953125 72.359375 53.515625 70.515625 \r\nz\r\n\" id=\"DejaVuSans-83\"/>\r\n       <path d=\"M 30.609375 48.390625 \r\nQ 23.390625 48.390625 19.1875 42.75 \r\nQ 14.984375 37.109375 14.984375 27.296875 \r\nQ 14.984375 17.484375 19.15625 11.84375 \r\nQ 23.34375 6.203125 30.609375 6.203125 \r\nQ 37.796875 6.203125 41.984375 11.859375 \r\nQ 46.1875 17.53125 46.1875 27.296875 \r\nQ 46.1875 37.015625 41.984375 42.703125 \r\nQ 37.796875 48.390625 30.609375 48.390625 \r\nz\r\nM 30.609375 56 \r\nQ 42.328125 56 49.015625 48.375 \r\nQ 55.71875 40.765625 55.71875 27.296875 \r\nQ 55.71875 13.875 49.015625 6.21875 \r\nQ 42.328125 -1.421875 30.609375 -1.421875 \r\nQ 18.84375 -1.421875 12.171875 6.21875 \r\nQ 5.515625 13.875 5.515625 27.296875 \r\nQ 5.515625 40.765625 12.171875 48.375 \r\nQ 18.84375 56 30.609375 56 \r\nz\r\n\" id=\"DejaVuSans-111\"/>\r\n       <path d=\"M 9.421875 54.6875 \r\nL 18.40625 54.6875 \r\nL 18.40625 0 \r\nL 9.421875 0 \r\nz\r\nM 9.421875 75.984375 \r\nL 18.40625 75.984375 \r\nL 18.40625 64.59375 \r\nL 9.421875 64.59375 \r\nz\r\n\" id=\"DejaVuSans-105\"/>\r\n       <path d=\"M 9.421875 75.984375 \r\nL 18.40625 75.984375 \r\nL 18.40625 0 \r\nL 9.421875 0 \r\nz\r\n\" id=\"DejaVuSans-108\"/>\r\n       <path id=\"DejaVuSans-32\"/>\r\n       <path d=\"M 34.1875 63.1875 \r\nL 20.796875 26.90625 \r\nL 47.609375 26.90625 \r\nz\r\nM 28.609375 72.90625 \r\nL 39.796875 72.90625 \r\nL 67.578125 0 \r\nL 57.328125 0 \r\nL 50.6875 18.703125 \r\nL 17.828125 18.703125 \r\nL 11.1875 0 \r\nL 0.78125 0 \r\nz\r\n\" id=\"DejaVuSans-65\"/>\r\n       <path d=\"M 48.78125 52.59375 \r\nL 48.78125 44.1875 \r\nQ 44.96875 46.296875 41.140625 47.34375 \r\nQ 37.3125 48.390625 33.40625 48.390625 \r\nQ 24.65625 48.390625 19.8125 42.84375 \r\nQ 14.984375 37.3125 14.984375 27.296875 \r\nQ 14.984375 17.28125 19.8125 11.734375 \r\nQ 24.65625 6.203125 33.40625 6.203125 \r\nQ 37.3125 6.203125 41.140625 7.25 \r\nQ 44.96875 8.296875 48.78125 10.40625 \r\nL 48.78125 2.09375 \r\nQ 45.015625 0.34375 40.984375 -0.53125 \r\nQ 36.96875 -1.421875 32.421875 -1.421875 \r\nQ 20.0625 -1.421875 12.78125 6.34375 \r\nQ 5.515625 14.109375 5.515625 27.296875 \r\nQ 5.515625 40.671875 12.859375 48.328125 \r\nQ 20.21875 56 33.015625 56 \r\nQ 37.15625 56 41.109375 55.140625 \r\nQ 45.0625 54.296875 48.78125 52.59375 \r\nz\r\n\" id=\"DejaVuSans-99\"/>\r\n       <path d=\"M 18.3125 70.21875 \r\nL 18.3125 54.6875 \r\nL 36.8125 54.6875 \r\nL 36.8125 47.703125 \r\nL 18.3125 47.703125 \r\nL 18.3125 18.015625 \r\nQ 18.3125 11.328125 20.140625 9.421875 \r\nQ 21.96875 7.515625 27.59375 7.515625 \r\nL 36.8125 7.515625 \r\nL 36.8125 0 \r\nL 27.59375 0 \r\nQ 17.1875 0 13.234375 3.875 \r\nQ 9.28125 7.765625 9.28125 18.015625 \r\nL 9.28125 47.703125 \r\nL 2.6875 47.703125 \r\nL 2.6875 54.6875 \r\nL 9.28125 54.6875 \r\nL 9.28125 70.21875 \r\nz\r\n\" id=\"DejaVuSans-116\"/>\r\n       <path d=\"M 2.984375 54.6875 \r\nL 12.5 54.6875 \r\nL 29.59375 8.796875 \r\nL 46.6875 54.6875 \r\nL 56.203125 54.6875 \r\nL 35.6875 0 \r\nL 23.484375 0 \r\nz\r\n\" id=\"DejaVuSans-118\"/>\r\n       <path d=\"M 64.40625 67.28125 \r\nL 64.40625 56.890625 \r\nQ 59.421875 61.53125 53.78125 63.8125 \r\nQ 48.140625 66.109375 41.796875 66.109375 \r\nQ 29.296875 66.109375 22.65625 58.46875 \r\nQ 16.015625 50.828125 16.015625 36.375 \r\nQ 16.015625 21.96875 22.65625 14.328125 \r\nQ 29.296875 6.6875 41.796875 6.6875 \r\nQ 48.140625 6.6875 53.78125 8.984375 \r\nQ 59.421875 11.28125 64.40625 15.921875 \r\nL 64.40625 5.609375 \r\nQ 59.234375 2.09375 53.4375 0.328125 \r\nQ 47.65625 -1.421875 41.21875 -1.421875 \r\nQ 24.65625 -1.421875 15.125 8.703125 \r\nQ 5.609375 18.84375 5.609375 36.375 \r\nQ 5.609375 53.953125 15.125 64.078125 \r\nQ 24.65625 74.21875 41.21875 74.21875 \r\nQ 47.75 74.21875 53.53125 72.484375 \r\nQ 59.328125 70.75 64.40625 67.28125 \r\nz\r\n\" id=\"DejaVuSans-67\"/>\r\n       <path d=\"M 34.28125 27.484375 \r\nQ 23.390625 27.484375 19.1875 25 \r\nQ 14.984375 22.515625 14.984375 16.5 \r\nQ 14.984375 11.71875 18.140625 8.90625 \r\nQ 21.296875 6.109375 26.703125 6.109375 \r\nQ 34.1875 6.109375 38.703125 11.40625 \r\nQ 43.21875 16.703125 43.21875 25.484375 \r\nL 43.21875 27.484375 \r\nz\r\nM 52.203125 31.203125 \r\nL 52.203125 0 \r\nL 43.21875 0 \r\nL 43.21875 8.296875 \r\nQ 40.140625 3.328125 35.546875 0.953125 \r\nQ 30.953125 -1.421875 24.3125 -1.421875 \r\nQ 15.921875 -1.421875 10.953125 3.296875 \r\nQ 6 8.015625 6 15.921875 \r\nQ 6 25.140625 12.171875 29.828125 \r\nQ 18.359375 34.515625 30.609375 34.515625 \r\nL 43.21875 34.515625 \r\nL 43.21875 35.40625 \r\nQ 43.21875 41.609375 39.140625 45 \r\nQ 35.0625 48.390625 27.6875 48.390625 \r\nQ 23 48.390625 18.546875 47.265625 \r\nQ 14.109375 46.140625 10.015625 43.890625 \r\nL 10.015625 52.203125 \r\nQ 14.9375 54.109375 19.578125 55.046875 \r\nQ 24.21875 56 28.609375 56 \r\nQ 40.484375 56 46.34375 49.84375 \r\nQ 52.203125 43.703125 52.203125 31.203125 \r\nz\r\n\" id=\"DejaVuSans-97\"/>\r\n       <path d=\"M 41.109375 46.296875 \r\nQ 39.59375 47.171875 37.8125 47.578125 \r\nQ 36.03125 48 33.890625 48 \r\nQ 26.265625 48 22.1875 43.046875 \r\nQ 18.109375 38.09375 18.109375 28.8125 \r\nL 18.109375 0 \r\nL 9.078125 0 \r\nL 9.078125 54.6875 \r\nL 18.109375 54.6875 \r\nL 18.109375 46.1875 \r\nQ 20.953125 51.171875 25.484375 53.578125 \r\nQ 30.03125 56 36.53125 56 \r\nQ 37.453125 56 38.578125 55.875 \r\nQ 39.703125 55.765625 41.0625 55.515625 \r\nz\r\n\" id=\"DejaVuSans-114\"/>\r\n       <path d=\"M 48.6875 27.296875 \r\nQ 48.6875 37.203125 44.609375 42.84375 \r\nQ 40.53125 48.484375 33.40625 48.484375 \r\nQ 26.265625 48.484375 22.1875 42.84375 \r\nQ 18.109375 37.203125 18.109375 27.296875 \r\nQ 18.109375 17.390625 22.1875 11.75 \r\nQ 26.265625 6.109375 33.40625 6.109375 \r\nQ 40.53125 6.109375 44.609375 11.75 \r\nQ 48.6875 17.390625 48.6875 27.296875 \r\nz\r\nM 18.109375 46.390625 \r\nQ 20.953125 51.265625 25.265625 53.625 \r\nQ 29.59375 56 35.59375 56 \r\nQ 45.5625 56 51.78125 48.09375 \r\nQ 58.015625 40.1875 58.015625 27.296875 \r\nQ 58.015625 14.40625 51.78125 6.484375 \r\nQ 45.5625 -1.421875 35.59375 -1.421875 \r\nQ 29.59375 -1.421875 25.265625 0.953125 \r\nQ 20.953125 3.328125 18.109375 8.203125 \r\nL 18.109375 0 \r\nL 9.078125 0 \r\nL 9.078125 75.984375 \r\nL 18.109375 75.984375 \r\nz\r\n\" id=\"DejaVuSans-98\"/>\r\n       <path d=\"M 54.890625 33.015625 \r\nL 54.890625 0 \r\nL 45.90625 0 \r\nL 45.90625 32.71875 \r\nQ 45.90625 40.484375 42.875 44.328125 \r\nQ 39.84375 48.1875 33.796875 48.1875 \r\nQ 26.515625 48.1875 22.3125 43.546875 \r\nQ 18.109375 38.921875 18.109375 30.90625 \r\nL 18.109375 0 \r\nL 9.078125 0 \r\nL 9.078125 54.6875 \r\nL 18.109375 54.6875 \r\nL 18.109375 46.1875 \r\nQ 21.34375 51.125 25.703125 53.5625 \r\nQ 30.078125 56 35.796875 56 \r\nQ 45.21875 56 50.046875 50.171875 \r\nQ 54.890625 44.34375 54.890625 33.015625 \r\nz\r\n\" id=\"DejaVuSans-110\"/>\r\n      </defs>\r\n      <use xlink:href=\"#DejaVuSans-83\"/>\r\n      <use x=\"63.476562\" xlink:href=\"#DejaVuSans-111\"/>\r\n      <use x=\"124.658203\" xlink:href=\"#DejaVuSans-105\"/>\r\n      <use x=\"152.441406\" xlink:href=\"#DejaVuSans-108\"/>\r\n      <use x=\"180.224609\" xlink:href=\"#DejaVuSans-32\"/>\r\n      <use x=\"212.011719\" xlink:href=\"#DejaVuSans-65\"/>\r\n      <use x=\"278.669922\" xlink:href=\"#DejaVuSans-99\"/>\r\n      <use x=\"333.650391\" xlink:href=\"#DejaVuSans-116\"/>\r\n      <use x=\"372.859375\" xlink:href=\"#DejaVuSans-105\"/>\r\n      <use x=\"400.642578\" xlink:href=\"#DejaVuSans-118\"/>\r\n      <use x=\"459.822266\" xlink:href=\"#DejaVuSans-101\"/>\r\n      <use x=\"521.345703\" xlink:href=\"#DejaVuSans-32\"/>\r\n      <use x=\"553.132812\" xlink:href=\"#DejaVuSans-67\"/>\r\n      <use x=\"622.957031\" xlink:href=\"#DejaVuSans-97\"/>\r\n      <use x=\"684.236328\" xlink:href=\"#DejaVuSans-114\"/>\r\n      <use x=\"725.349609\" xlink:href=\"#DejaVuSans-98\"/>\r\n      <use x=\"788.826172\" xlink:href=\"#DejaVuSans-111\"/>\r\n      <use x=\"850.007812\" xlink:href=\"#DejaVuSans-110\"/>\r\n     </g>\r\n    </g>\r\n    <g id=\"line2d_23\">\r\n     <path d=\"M 227.959375 111.099687 \r\nL 247.959375 111.099687 \r\n\" style=\"fill:none;stroke:#ff7f0e;stroke-linecap:square;stroke-width:1.5;\"/>\r\n    </g>\r\n    <g id=\"line2d_24\"/>\r\n    <g id=\"text_18\">\r\n     <!-- Soil Permafrost Carbon -->\r\n     <g transform=\"translate(255.959375 114.599687)scale(0.1 -0.1)\">\r\n      <defs>\r\n       <path d=\"M 19.671875 64.796875 \r\nL 19.671875 37.40625 \r\nL 32.078125 37.40625 \r\nQ 38.96875 37.40625 42.71875 40.96875 \r\nQ 46.484375 44.53125 46.484375 51.125 \r\nQ 46.484375 57.671875 42.71875 61.234375 \r\nQ 38.96875 64.796875 32.078125 64.796875 \r\nz\r\nM 9.8125 72.90625 \r\nL 32.078125 72.90625 \r\nQ 44.34375 72.90625 50.609375 67.359375 \r\nQ 56.890625 61.8125 56.890625 51.125 \r\nQ 56.890625 40.328125 50.609375 34.8125 \r\nQ 44.34375 29.296875 32.078125 29.296875 \r\nL 19.671875 29.296875 \r\nL 19.671875 0 \r\nL 9.8125 0 \r\nz\r\n\" id=\"DejaVuSans-80\"/>\r\n       <path d=\"M 52 44.1875 \r\nQ 55.375 50.25 60.0625 53.125 \r\nQ 64.75 56 71.09375 56 \r\nQ 79.640625 56 84.28125 50.015625 \r\nQ 88.921875 44.046875 88.921875 33.015625 \r\nL 88.921875 0 \r\nL 79.890625 0 \r\nL 79.890625 32.71875 \r\nQ 79.890625 40.578125 77.09375 44.375 \r\nQ 74.3125 48.1875 68.609375 48.1875 \r\nQ 61.625 48.1875 57.5625 43.546875 \r\nQ 53.515625 38.921875 53.515625 30.90625 \r\nL 53.515625 0 \r\nL 44.484375 0 \r\nL 44.484375 32.71875 \r\nQ 44.484375 40.625 41.703125 44.40625 \r\nQ 38.921875 48.1875 33.109375 48.1875 \r\nQ 26.21875 48.1875 22.15625 43.53125 \r\nQ 18.109375 38.875 18.109375 30.90625 \r\nL 18.109375 0 \r\nL 9.078125 0 \r\nL 9.078125 54.6875 \r\nL 18.109375 54.6875 \r\nL 18.109375 46.1875 \r\nQ 21.1875 51.21875 25.484375 53.609375 \r\nQ 29.78125 56 35.6875 56 \r\nQ 41.65625 56 45.828125 52.96875 \r\nQ 50 49.953125 52 44.1875 \r\nz\r\n\" id=\"DejaVuSans-109\"/>\r\n       <path d=\"M 37.109375 75.984375 \r\nL 37.109375 68.5 \r\nL 28.515625 68.5 \r\nQ 23.6875 68.5 21.796875 66.546875 \r\nQ 19.921875 64.59375 19.921875 59.515625 \r\nL 19.921875 54.6875 \r\nL 34.71875 54.6875 \r\nL 34.71875 47.703125 \r\nL 19.921875 47.703125 \r\nL 19.921875 0 \r\nL 10.890625 0 \r\nL 10.890625 47.703125 \r\nL 2.296875 47.703125 \r\nL 2.296875 54.6875 \r\nL 10.890625 54.6875 \r\nL 10.890625 58.5 \r\nQ 10.890625 67.625 15.140625 71.796875 \r\nQ 19.390625 75.984375 28.609375 75.984375 \r\nz\r\n\" id=\"DejaVuSans-102\"/>\r\n       <path d=\"M 44.28125 53.078125 \r\nL 44.28125 44.578125 \r\nQ 40.484375 46.53125 36.375 47.5 \r\nQ 32.28125 48.484375 27.875 48.484375 \r\nQ 21.1875 48.484375 17.84375 46.4375 \r\nQ 14.5 44.390625 14.5 40.28125 \r\nQ 14.5 37.15625 16.890625 35.375 \r\nQ 19.28125 33.59375 26.515625 31.984375 \r\nL 29.59375 31.296875 \r\nQ 39.15625 29.25 43.1875 25.515625 \r\nQ 47.21875 21.78125 47.21875 15.09375 \r\nQ 47.21875 7.46875 41.1875 3.015625 \r\nQ 35.15625 -1.421875 24.609375 -1.421875 \r\nQ 20.21875 -1.421875 15.453125 -0.5625 \r\nQ 10.6875 0.296875 5.421875 2 \r\nL 5.421875 11.28125 \r\nQ 10.40625 8.6875 15.234375 7.390625 \r\nQ 20.0625 6.109375 24.8125 6.109375 \r\nQ 31.15625 6.109375 34.5625 8.28125 \r\nQ 37.984375 10.453125 37.984375 14.40625 \r\nQ 37.984375 18.0625 35.515625 20.015625 \r\nQ 33.0625 21.96875 24.703125 23.78125 \r\nL 21.578125 24.515625 \r\nQ 13.234375 26.265625 9.515625 29.90625 \r\nQ 5.8125 33.546875 5.8125 39.890625 \r\nQ 5.8125 47.609375 11.28125 51.796875 \r\nQ 16.75 56 26.8125 56 \r\nQ 31.78125 56 36.171875 55.265625 \r\nQ 40.578125 54.546875 44.28125 53.078125 \r\nz\r\n\" id=\"DejaVuSans-115\"/>\r\n      </defs>\r\n      <use xlink:href=\"#DejaVuSans-83\"/>\r\n      <use x=\"63.476562\" xlink:href=\"#DejaVuSans-111\"/>\r\n      <use x=\"124.658203\" xlink:href=\"#DejaVuSans-105\"/>\r\n      <use x=\"152.441406\" xlink:href=\"#DejaVuSans-108\"/>\r\n      <use x=\"180.224609\" xlink:href=\"#DejaVuSans-32\"/>\r\n      <use x=\"212.011719\" xlink:href=\"#DejaVuSans-80\"/>\r\n      <use x=\"268.689453\" xlink:href=\"#DejaVuSans-101\"/>\r\n      <use x=\"330.212891\" xlink:href=\"#DejaVuSans-114\"/>\r\n      <use x=\"369.576172\" xlink:href=\"#DejaVuSans-109\"/>\r\n      <use x=\"466.988281\" xlink:href=\"#DejaVuSans-97\"/>\r\n      <use x=\"528.267578\" xlink:href=\"#DejaVuSans-102\"/>\r\n      <use x=\"563.472656\" xlink:href=\"#DejaVuSans-114\"/>\r\n      <use x=\"602.335938\" xlink:href=\"#DejaVuSans-111\"/>\r\n      <use x=\"663.517578\" xlink:href=\"#DejaVuSans-115\"/>\r\n      <use x=\"715.617188\" xlink:href=\"#DejaVuSans-116\"/>\r\n      <use x=\"754.826172\" xlink:href=\"#DejaVuSans-32\"/>\r\n      <use x=\"786.613281\" xlink:href=\"#DejaVuSans-67\"/>\r\n      <use x=\"856.4375\" xlink:href=\"#DejaVuSans-97\"/>\r\n      <use x=\"917.716797\" xlink:href=\"#DejaVuSans-114\"/>\r\n      <use x=\"958.830078\" xlink:href=\"#DejaVuSans-98\"/>\r\n      <use x=\"1022.306641\" xlink:href=\"#DejaVuSans-111\"/>\r\n      <use x=\"1083.488281\" xlink:href=\"#DejaVuSans-110\"/>\r\n     </g>\r\n    </g>\r\n    <g id=\"line2d_25\">\r\n     <path d=\"M 227.959375 125.777812 \r\nL 247.959375 125.777812 \r\n\" style=\"fill:none;stroke:#2ca02c;stroke-linecap:square;stroke-width:1.5;\"/>\r\n    </g>\r\n    <g id=\"line2d_26\"/>\r\n    <g id=\"text_19\">\r\n     <!-- Vegetation Carbon -->\r\n     <g transform=\"translate(255.959375 129.277812)scale(0.1 -0.1)\">\r\n      <defs>\r\n       <path d=\"M 28.609375 0 \r\nL 0.78125 72.90625 \r\nL 11.078125 72.90625 \r\nL 34.1875 11.53125 \r\nL 57.328125 72.90625 \r\nL 67.578125 72.90625 \r\nL 39.796875 0 \r\nz\r\n\" id=\"DejaVuSans-86\"/>\r\n       <path d=\"M 45.40625 27.984375 \r\nQ 45.40625 37.75 41.375 43.109375 \r\nQ 37.359375 48.484375 30.078125 48.484375 \r\nQ 22.859375 48.484375 18.828125 43.109375 \r\nQ 14.796875 37.75 14.796875 27.984375 \r\nQ 14.796875 18.265625 18.828125 12.890625 \r\nQ 22.859375 7.515625 30.078125 7.515625 \r\nQ 37.359375 7.515625 41.375 12.890625 \r\nQ 45.40625 18.265625 45.40625 27.984375 \r\nz\r\nM 54.390625 6.78125 \r\nQ 54.390625 -7.171875 48.1875 -13.984375 \r\nQ 42 -20.796875 29.203125 -20.796875 \r\nQ 24.46875 -20.796875 20.265625 -20.09375 \r\nQ 16.0625 -19.390625 12.109375 -17.921875 \r\nL 12.109375 -9.1875 \r\nQ 16.0625 -11.328125 19.921875 -12.34375 \r\nQ 23.78125 -13.375 27.78125 -13.375 \r\nQ 36.625 -13.375 41.015625 -8.765625 \r\nQ 45.40625 -4.15625 45.40625 5.171875 \r\nL 45.40625 9.625 \r\nQ 42.625 4.78125 38.28125 2.390625 \r\nQ 33.9375 0 27.875 0 \r\nQ 17.828125 0 11.671875 7.65625 \r\nQ 5.515625 15.328125 5.515625 27.984375 \r\nQ 5.515625 40.671875 11.671875 48.328125 \r\nQ 17.828125 56 27.875 56 \r\nQ 33.9375 56 38.28125 53.609375 \r\nQ 42.625 51.21875 45.40625 46.390625 \r\nL 45.40625 54.6875 \r\nL 54.390625 54.6875 \r\nz\r\n\" id=\"DejaVuSans-103\"/>\r\n      </defs>\r\n      <use xlink:href=\"#DejaVuSans-86\"/>\r\n      <use x=\"60.658203\" xlink:href=\"#DejaVuSans-101\"/>\r\n      <use x=\"122.181641\" xlink:href=\"#DejaVuSans-103\"/>\r\n      <use x=\"185.658203\" xlink:href=\"#DejaVuSans-101\"/>\r\n      <use x=\"247.181641\" xlink:href=\"#DejaVuSans-116\"/>\r\n      <use x=\"286.390625\" xlink:href=\"#DejaVuSans-97\"/>\r\n      <use x=\"347.669922\" xlink:href=\"#DejaVuSans-116\"/>\r\n      <use x=\"386.878906\" xlink:href=\"#DejaVuSans-105\"/>\r\n      <use x=\"414.662109\" xlink:href=\"#DejaVuSans-111\"/>\r\n      <use x=\"475.84375\" xlink:href=\"#DejaVuSans-110\"/>\r\n      <use x=\"539.222656\" xlink:href=\"#DejaVuSans-32\"/>\r\n      <use x=\"571.009766\" xlink:href=\"#DejaVuSans-67\"/>\r\n      <use x=\"640.833984\" xlink:href=\"#DejaVuSans-97\"/>\r\n      <use x=\"702.113281\" xlink:href=\"#DejaVuSans-114\"/>\r\n      <use x=\"743.226562\" xlink:href=\"#DejaVuSans-98\"/>\r\n      <use x=\"806.703125\" xlink:href=\"#DejaVuSans-111\"/>\r\n      <use x=\"867.884766\" xlink:href=\"#DejaVuSans-110\"/>\r\n     </g>\r\n    </g>\r\n    <g id=\"line2d_27\">\r\n     <path d=\"M 227.959375 140.455938 \r\nL 247.959375 140.455938 \r\n\" style=\"fill:none;stroke:#d62728;stroke-linecap:square;stroke-width:1.5;\"/>\r\n    </g>\r\n    <g id=\"line2d_28\"/>\r\n    <g id=\"text_20\">\r\n     <!-- Herbivore Carbon -->\r\n     <g transform=\"translate(255.959375 143.955938)scale(0.1 -0.1)\">\r\n      <defs>\r\n       <path d=\"M 9.8125 72.90625 \r\nL 19.671875 72.90625 \r\nL 19.671875 43.015625 \r\nL 55.515625 43.015625 \r\nL 55.515625 72.90625 \r\nL 65.375 72.90625 \r\nL 65.375 0 \r\nL 55.515625 0 \r\nL 55.515625 34.71875 \r\nL 19.671875 34.71875 \r\nL 19.671875 0 \r\nL 9.8125 0 \r\nz\r\n\" id=\"DejaVuSans-72\"/>\r\n      </defs>\r\n      <use xlink:href=\"#DejaVuSans-72\"/>\r\n      <use x=\"75.195312\" xlink:href=\"#DejaVuSans-101\"/>\r\n      <use x=\"136.71875\" xlink:href=\"#DejaVuSans-114\"/>\r\n      <use x=\"177.832031\" xlink:href=\"#DejaVuSans-98\"/>\r\n      <use x=\"241.308594\" xlink:href=\"#DejaVuSans-105\"/>\r\n      <use x=\"269.091797\" xlink:href=\"#DejaVuSans-118\"/>\r\n      <use x=\"328.271484\" xlink:href=\"#DejaVuSans-111\"/>\r\n      <use x=\"389.453125\" xlink:href=\"#DejaVuSans-114\"/>\r\n      <use x=\"428.316406\" xlink:href=\"#DejaVuSans-101\"/>\r\n      <use x=\"489.839844\" xlink:href=\"#DejaVuSans-32\"/>\r\n      <use x=\"521.626953\" xlink:href=\"#DejaVuSans-67\"/>\r\n      <use x=\"591.451172\" xlink:href=\"#DejaVuSans-97\"/>\r\n      <use x=\"652.730469\" xlink:href=\"#DejaVuSans-114\"/>\r\n      <use x=\"693.84375\" xlink:href=\"#DejaVuSans-98\"/>\r\n      <use x=\"757.320312\" xlink:href=\"#DejaVuSans-111\"/>\r\n      <use x=\"818.501953\" xlink:href=\"#DejaVuSans-110\"/>\r\n     </g>\r\n    </g>\r\n    <g id=\"line2d_29\">\r\n     <path d=\"M 227.959375 155.134062 \r\nL 247.959375 155.134062 \r\n\" style=\"fill:none;stroke:#9467bd;stroke-linecap:square;stroke-width:1.5;\"/>\r\n    </g>\r\n    <g id=\"line2d_30\"/>\r\n    <g id=\"text_21\">\r\n     <!-- Lake Carbon -->\r\n     <g transform=\"translate(255.959375 158.634062)scale(0.1 -0.1)\">\r\n      <defs>\r\n       <path d=\"M 9.8125 72.90625 \r\nL 19.671875 72.90625 \r\nL 19.671875 8.296875 \r\nL 55.171875 8.296875 \r\nL 55.171875 0 \r\nL 9.8125 0 \r\nz\r\n\" id=\"DejaVuSans-76\"/>\r\n       <path d=\"M 9.078125 75.984375 \r\nL 18.109375 75.984375 \r\nL 18.109375 31.109375 \r\nL 44.921875 54.6875 \r\nL 56.390625 54.6875 \r\nL 27.390625 29.109375 \r\nL 57.625 0 \r\nL 45.90625 0 \r\nL 18.109375 26.703125 \r\nL 18.109375 0 \r\nL 9.078125 0 \r\nz\r\n\" id=\"DejaVuSans-107\"/>\r\n      </defs>\r\n      <use xlink:href=\"#DejaVuSans-76\"/>\r\n      <use x=\"55.712891\" xlink:href=\"#DejaVuSans-97\"/>\r\n      <use x=\"116.992188\" xlink:href=\"#DejaVuSans-107\"/>\r\n      <use x=\"171.277344\" xlink:href=\"#DejaVuSans-101\"/>\r\n      <use x=\"232.800781\" xlink:href=\"#DejaVuSans-32\"/>\r\n      <use x=\"264.587891\" xlink:href=\"#DejaVuSans-67\"/>\r\n      <use x=\"334.412109\" xlink:href=\"#DejaVuSans-97\"/>\r\n      <use x=\"395.691406\" xlink:href=\"#DejaVuSans-114\"/>\r\n      <use x=\"436.804688\" xlink:href=\"#DejaVuSans-98\"/>\r\n      <use x=\"500.28125\" xlink:href=\"#DejaVuSans-111\"/>\r\n      <use x=\"561.462891\" xlink:href=\"#DejaVuSans-110\"/>\r\n     </g>\r\n    </g>\r\n   </g>\r\n  </g>\r\n </g>\r\n <defs>\r\n  <clipPath id=\"p36571e3cd6\">\r\n   <rect height=\"217.44\" width=\"334.8\" x=\"44.845313\" y=\"17.798437\"/>\r\n  </clipPath>\r\n </defs>\r\n</svg>\r\n",
      "image/png": "[encoded data removed]"
     },
     "metadata": {
      "needs_background": "light"
     }
    }
   ],
   "source": [
    "pool_df['Soil Active Carbon'].plot()\n",
    "pool_df['Soil Permafrost Carbon'].plot()\n",
    "pool_df['Vegetation Carbon'].plot()\n",
    "pool_df['Herbivore Carbon'].plot()\n",
    "pool_df['Lake Carbon'].plot()\n",
    "plt.legend()"
   ]
  },
  {
   "cell_type": "code",
   "execution_count": null,
   "metadata": {},
   "outputs": [],
   "source": []
  },
  {
   "cell_type": "code",
   "execution_count": null,
   "metadata": {},
   "outputs": [],
   "source": [
    "# test\n",
    "print('Vegetation total carbon =', res_veg.total_biomass, 'kg')\n",
    "print('Soil active layer total carbon =', res_soil.soc_active_total, 'kg')\n",
    "print('Soil permafrost layer total carbon =', res_soil.soc_permafrost_total, 'kg')\n",
    "print('Herbivore total carbon =', res_animals.total_biomass, 'kg')\n",
    "print('Total terrestrial carbon =', res_veg.total_biomass + res_soil.soc_active_total + res_soil.soc_permafrost_total + res_animals.total_biomass, 'kg')\n",
    "print('Lake total carbon =', res_lake.total_carbon, 'kg')\n",
    "print('NPP =', res_veg.total_npp, 'kg/a')"
   ]
  },
  {
   "cell_type": "code",
   "execution_count": null,
   "metadata": {},
   "outputs": [],
   "source": [
    "fig = plt.figure(dpi=150)\n",
    "reservoirs = [res_veg.total_biomass, res_soil.soc_active_total, res_soil.soc_permafrost_total, res_animals.total_biomass, res_lake.total_carbon]\n",
    "pos = [1, 2, 3, 4, 5]\n",
    "plt.bar(pos, reservoirs)\n",
    "plt.xticks(pos, ('Vegetation', r'$SOC_{active}$', r'$SOC_{permafrost}$', 'Herbivores', 'Lake'))\n",
    "plt.show()"
   ]
  },
  {
   "cell_type": "code",
   "execution_count": null,
   "metadata": {},
   "outputs": [],
   "source": [
    "# <2.2> Productivity vascular tissue:\n",
    "prod_vasc_betula = 1\n",
    "prod_vasc_grass = 3\n",
    "prod_vasc_meadow = 3\n",
    "prod_vasc_wetland = 2\n",
    "# <2.3> Productivity bryophytes:\n",
    "prod_bryo = 0.3\n",
    "\n",
    "prod_vasc = [1,3,3,2]\n",
    "prod_bryo = [0.3, 0.3, 0.3, 0.3]\n",
    "\n"
   ]
  },
  {
   "cell_type": "code",
   "execution_count": null,
   "metadata": {},
   "outputs": [],
   "source": [
    "res_veg.alter_productivity_npp([2,3,3,2], [0.3,0.3,0.3,0.3])"
   ]
  },
  {
   "cell_type": "code",
   "execution_count": null,
   "metadata": {},
   "outputs": [],
   "source": [
    "print('NPP =', res_veg.total_npp, 'kg/a')\n",
    "new_npp = res_veg.alter_productivity_npp([0.3,0.3,0.3,0.3], [1,3,3,2])\n",
    "print('NPP new =', new_npp, 'kg/a')\n",
    "print('Delta NPP =', new_npp - res_veg.total_npp, 'kg/a')"
   ]
  }
 ]
}